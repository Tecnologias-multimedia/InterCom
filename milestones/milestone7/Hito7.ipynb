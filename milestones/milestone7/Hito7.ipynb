{
 "cells": [
  {
   "cell_type": "markdown",
   "metadata": {},
   "source": [
    "<h1><center>Hito 7</center></h1>\n",
    "\n",
    "<h1><center>Impacto del Bit-Rate</center></h1>\n",
    "\n",
    "&nbsp;\n",
    "\n",
    "<center>\n",
    "Álvaro Garcı́a Garcı́a<br>\n",
    "Álvaro José Martı́nez Sánchez<br>\n",
    "José Francisco Castillo Berenguel<br>\n",
    "</center>\n",
    "    \n",
    "    \n",
    "<hr style=\"border:1px solid gray\"> </hr>\n"
   ]
  },
  {
   "cell_type": "markdown",
   "metadata": {},
   "source": [
    "# Introducción\n",
    "\n",
    "\n",
    "En el hito 6 se estudiaron los efectos de la latencia y su variación (jitter). No obstante, existen otros factores que también afectan a la conexión. En este hito se realizará el estudio de la tasa de bits (Bit rate). \n",
    "\n",
    "Este valor de bit-rate depende del ancho de banda y de la congestión de la red. La congestión de la red resulta ser un factor arbitrario en la práctica, pero el ancho de banda puede considerarse constante.\n",
    "\n",
    "La idea consistirá en obtener datos sobre el efecto del bit rate para posteriormente realizar la emulación con e comando \n",
    "`tc`"
   ]
  },
  {
   "cell_type": "markdown",
   "metadata": {},
   "source": [
    "# Estimación del bit-rate en un enlace de internet\n"
   ]
  },
  {
   "cell_type": "markdown",
   "metadata": {},
   "source": [
    "## Fundamentos"
   ]
  },
  {
   "cell_type": "markdown",
   "metadata": {},
   "source": [
    "## Consideraciones\n",
    "\n",
    "Se pide realizar distintos tipos de ping donde se incluye realizarlos con el mayor y menor payload. Para que los ping se realicen satisfactoriamente es necesario tener en cuenta estos efectos\n",
    "\n",
    "1. La cabecera de ICMPv4 ocupa 8 B.\n",
    "\n",
    "2. El valor mínimo de payload es 0. Sin embargo no se contabilizan los tiampos para payload menores de 16B (24B con la cabecera).\n",
    "\n",
    "3. El valor máximo de payload es 65507.\n"
   ]
  },
  {
   "cell_type": "markdown",
   "metadata": {},
   "source": [
    "## Procedimiento\n",
    "\n",
    "Vamos a realizar el mismo procedimiento para 3 conexiones distintas:\n",
    "\n",
    "1. Localhost\n",
    "2. Red local\n",
    "3. Conexión internet\n",
    "\n",
    "Para ello realizamos ping con el menor y mayor payload posible 16B y 65507B respectivamente. Una vez hecho, cargamos los resultados. Sin embargo al final del ping se ofrecen las estadísticas del mismo y por tanto no hay que realizar cálculos. Obtenemos los datos:"
   ]
  },
  {
   "cell_type": "code",
   "execution_count": 1,
   "metadata": {},
   "outputs": [],
   "source": [
    "!export LC_NUMERIC=en_US.UTF-8\n",
    "\n",
    "!tail -n 1 ping-minimo-localhost.dat | cut -f 2 -d \"=\" | cut -f 2 -d \"/\" > average-localhost.dat\n",
    "!tail -n 1 ping-maximo-localhost.dat | cut -f 2 -d \"=\" | cut -f 2 -d \"/\" >> average-localhost.dat\n",
    "\n",
    "!tail -n 1 ping-minimo-redlocal.dat | cut -f 2 -d \"=\" | cut -f 2 -d \"/\" > average-redlocal.dat\n",
    "!tail -n 1 ping-maximo-redlocal.dat | cut -f 2 -d \"=\" | cut -f 2 -d \"/\" >> average-redlocal.dat\n",
    "\n",
    "!tail -n 1 ping-minimo-internet.dat | cut -f 2 -d \"=\" | cut -f 2 -d \"/\" > average-internet.dat\n",
    "!tail -n 1 ping-maximo-internet.dat | cut -f 2 -d \"=\" | cut -f 2 -d \"/\" >> average-internet.dat\n",
    "\n",
    "!tail -n 1 ping-minimo-internet2.dat | cut -f 2 -d \"=\" | cut -f 2 -d \"/\" > average-internet2.dat\n",
    "!tail -n 1 ping-maximo-internet2.dat | cut -f 2 -d \"=\" | cut -f 2 -d \"/\" >> average-internet2.dat"
   ]
  },
  {
   "cell_type": "markdown",
   "metadata": {},
   "source": [
    "Cargamos los datos en python"
   ]
  },
  {
   "cell_type": "code",
   "execution_count": 15,
   "metadata": {},
   "outputs": [
    {
     "name": "stdout",
     "output_type": "stream",
     "text": [
      "Tiempos RTT\n",
      "\n",
      "Tiempo promedio localhost con payload de 16 B:  0.037\n",
      "Tiempo promedio localhost con payload de 65507 B:  0.163\n",
      "\n",
      "Tiempo promedio al gateway con payload de 16 B:  18.557\n",
      "Tiempo promedio al gateway con payload de 65507 B:  45.203\n",
      "\n",
      "Tiempo promedio en internet (1) con payload de 16 B:  27.731\n",
      "Tiempo promedio en internet (1) con payload de 65507 B:  56.002\n",
      "\n",
      "Tiempo promedio en internet (2) con payload de 16 B:  41.056\n",
      "Tiempo promedio en internet (2) con payload de 65507 B:  104.125\n",
      "Tiempos de propagación\n",
      "\n",
      "Tiempo de propagación en localhost: \t 0.0185\n",
      "Tiempo de propagación con el gateway: \t 9.2785\n",
      "Tiempo de propagación en internet (1): \t 13.8655\n",
      "Tiempo de propagación en internet (2): \t 20.528\n",
      "Tiempos de transmisión\n",
      "l\n",
      "Tiempo de propagación en localhost: \t 0.063\n",
      "Tiempo de propagación en redlocal: \t 13.323000000000002\n",
      "Tiempo de propagación en internet (1): \t 14.1355\n",
      "Tiempo de propagación en internet (2): \t 31.5345\n",
      "\n"
     ]
    }
   ],
   "source": [
    "import numpy as np\n",
    "import matplotlib.pyplot as plt\n",
    "    \n",
    "rtt_localhost = np.loadtxt(\"average-localhost.dat\")\n",
    "rtt_redlocal = np.loadtxt(\"average-redlocal.dat\")\n",
    "rtt_internet = np.loadtxt(\"average-internet.dat\")\n",
    "rtt_internet2 = np.loadtxt(\"average-internet2.dat\")\n",
    "\n",
    "print(\"Tiempos RTT\")\n",
    "print(\"\\nTiempo promedio localhost con payload de 16 B: \",rtt_localhost[0])\n",
    "print(\"Tiempo promedio localhost con payload de 65507 B: \",rtt_localhost[1])\n",
    "\n",
    "print(\"\\nTiempo promedio al gateway con payload de 16 B: \",rtt_redlocal[0])\n",
    "print(\"Tiempo promedio al gateway con payload de 65507 B: \",rtt_redlocal[1])\n",
    "\n",
    "print(\"\\nTiempo promedio en internet (1) con payload de 16 B: \",rtt_internet[0])\n",
    "print(\"Tiempo promedio en internet (1) con payload de 65507 B: \",rtt_internet[1])\n",
    "\n",
    "print(\"\\nTiempo promedio en internet (2) con payload de 16 B: \",rtt_internet2[0])\n",
    "print(\"Tiempo promedio en internet (2) con payload de 65507 B: \",rtt_internet2[1])\n",
    "\n",
    "\n",
    "tp_localhost = rtt_localhost[0]/2\n",
    "tp_redlocal = rtt_redlocal[0]/2\n",
    "tp_internet = rtt_internet[0]/2\n",
    "tp_internet2 = rtt_internet2[0]/2\n",
    "\n",
    "print(\"Tiempos de propagación\\n\")\n",
    "\n",
    "print(\"Tiempo de propagación en localhost: \\t\", tp_localhost)\n",
    "print(\"Tiempo de propagación con el gateway: \\t\", tp_redlocal)\n",
    "print(\"Tiempo de propagación en internet (1): \\t\", tp_internet)\n",
    "print(\"Tiempo de propagación en internet (2): \\t\", tp_internet2)\n",
    "\n",
    "transmision_time = lambda rtt, tp: (rtt - 2.0 * tp) / 2.0\n",
    "\n",
    "tt_localhost = (rtt_localhost[1] - 2.0 * tp_localhost) / 2.0\n",
    "tt_redlocal = (rtt_redlocal[1] - 2.0 * tp_redlocal) / 2.0\n",
    "tt_internet = (rtt_internet[1] - 2.0 * tp_internet) / 2.0\n",
    "tt_internet2 = (rtt_internet2[1] - 2.0 * tp_internet2) / 2.0\n",
    "\n",
    "print(\"Tiempos de transmisión\\n\")\n",
    "print(\"Tiempo de transmisión en localhost: \\t\", tt_localhost)\n",
    "print(\"Tiempo de transmisión en redlocal: \\t\", tt_redlocal)\n",
    "print(\"Tiempo de transmisión en internet (1): \\t\", tt_internet)\n",
    "print(\"Tiempo de transmisión en internet (2): \\t\", tt_internet2)\n",
    "print()\n",
    "\n",
    "bitrate = lambda B, tt: (B/tt) \n",
    "\n",
    "#space = np.linspace(0,65507, 65507)\n",
    "#plt.plot(space, bitrate(space, tt_localhost), 'g',linewidth=3, label='Localhost') \n",
    "#plt.plot(space, bitrate(space, tt_redlocal), 'b',linewidth=3, label='Red Local') \n",
    "#plt.plot(space, bitrate(space, tt_internet), 'r',linewidth=3, label='Internet')\n",
    "#plt.plot(space, bitrate(space, tt_internet2), 'y',linewidth=3, label='Internet2')\n",
    "#plt.ylabel(ylabel=\"Bit rate\")\n",
    "#plt.xlabel(xlabel=\"Número de bits enviados\")\n",
    "#plt.legend()\n",
    "#plt.show()\n",
    "#print(len(space))\n",
    "#print(bitrate(space,10))"
   ]
  },
  {
   "cell_type": "markdown",
   "metadata": {},
   "source": [
    "Dado que localhost tiene un bitrate \"elevado\", se procede a realizar al comparativa descartando localhost"
   ]
  },
  {
   "cell_type": "code",
   "execution_count": 21,
   "metadata": {},
   "outputs": [],
   "source": [
    "\n",
    "#plt.plot(space, bitrate(space, tt_redlocal), 'b',linewidth=3, label='Red Local') \n",
    "#plt.plot(space, bitrate(space, tt_internet), 'r',linewidth=3, label='Internet')\n",
    "#plt.plot(space, bitrate(space, tt_internet2), 'y',linewidth=3, label='Internet2')\n",
    "#plt.ylabel(ylabel=\"Bit rate\")\n",
    "#plt.xlabel(xlabel=\"Número de bits enviados\")\n",
    "#plt.legend()\n",
    "#plt.show()\n",
    "\n",
    "#print(bitrate(space, tt_internet))"
   ]
  },
  {
   "cell_type": "markdown",
   "metadata": {},
   "source": [
    "# Simulación del enlace\n",
    "\n",
    "Una vez se tienen los valores de bitrate, se procede a mejorar la simulación realizada en el hito anterior. Para ello se hace uso del comando  `tc`. Primero se calculan los bitrate. En este caso, se deben realizar con el valor B del maximo payload, puesto que los resultados de ping están condicionados a ese valor."
   ]
  },
  {
   "cell_type": "code",
   "execution_count": 20,
   "metadata": {},
   "outputs": [
    {
     "name": "stdout",
     "output_type": "stream",
     "text": [
      "Bitrate en localhost:  8318349.206349206\n",
      "Bitrate al gateway:  39334.6843803948\n",
      "Bitrate en internet (1):  37073.750486364115\n",
      "Bitrate en internet (2):  16618.497201477745\n"
     ]
    }
   ],
   "source": [
    "bitrate_localhost = bitrate(65507*8, tt_localhost)\n",
    "bitrate_redlocal = bitrate(65507*8, tt_redlocal)\n",
    "bitrate_internet = bitrate(65507*8, tt_internet)\n",
    "bitrate_internet2 = bitrate(65507*8, tt_internet2)\n",
    "\n",
    "print(\"Bitrate en localhost: \", bitrate_localhost)\n",
    "print(\"Bitrate al gateway: \", bitrate_redlocal)\n",
    "print(\"Bitrate en internet (1): \", bitrate_internet)\n",
    "print(\"Bitrate en internet (2): \", bitrate_internet2)"
   ]
  },
  {
   "cell_type": "markdown",
   "metadata": {},
   "source": [
    "Se procede a emular la latencia y la pérdida de paquetes. Para ello, primero se debe ver la configuración"
   ]
  },
  {
   "cell_type": "code",
   "execution_count": 6,
   "metadata": {},
   "outputs": [
    {
     "name": "stdout",
     "output_type": "stream",
     "text": [
      "qdisc noqueue 0: root refcnt 2 \r\n"
     ]
    }
   ],
   "source": [
    "!tc qdisc show dev lo "
   ]
  },
  {
   "cell_type": "markdown",
   "metadata": {},
   "source": [
    "Imponemos la regla para emular el bitrate"
   ]
  },
  {
   "cell_type": "code",
   "execution_count": 7,
   "metadata": {},
   "outputs": [
    {
     "name": "stdout",
     "output_type": "stream",
     "text": [
      "········\n",
      "[sudo] password for cobeguel: "
     ]
    }
   ],
   "source": [
    "from getpass import getpass\n",
    "!echo {getpass()} | sudo -S tc qdisc add dev lo root handle 1: tbf rate 4634kbit burst 32kbit limit 32kbit"
   ]
  },
  {
   "cell_type": "markdown",
   "metadata": {},
   "source": [
    "Se activa la regla del hito anterior"
   ]
  },
  {
   "cell_type": "code",
   "execution_count": null,
   "metadata": {},
   "outputs": [],
   "source": [
    "!echo {getpass()} | sudo -S tc qdisc add dev lo parent 1:1 handle 10: netem delay 43.75ms 6.88ms 0.375% distribution normal"
   ]
  },
  {
   "cell_type": "markdown",
   "metadata": {},
   "source": [
    "Visualizamos la configuración"
   ]
  },
  {
   "cell_type": "code",
   "execution_count": null,
   "metadata": {},
   "outputs": [],
   "source": [
    "!echo {getpass()} | sudo -S tc qdisc show dev lo"
   ]
  },
  {
   "cell_type": "markdown",
   "metadata": {},
   "source": [
    "A continuación ejecutamos intercom y evaluamos la calidad de la experiencia"
   ]
  },
  {
   "cell_type": "markdown",
   "metadata": {},
   "source": [
    "Resultados"
   ]
  },
  {
   "cell_type": "markdown",
   "metadata": {},
   "source": [
    "Finalmente borramos las reglas"
   ]
  },
  {
   "cell_type": "code",
   "execution_count": null,
   "metadata": {},
   "outputs": [],
   "source": [
    "!echo {getpass()} | sudo -S tc qdisc delete dev lo root handle 1: tbf rate 4634kbit burst 32kbit limit 32kbit\n",
    "!echo {getpass()} | sudo -S tc qdisc delete dev lo parent 1:1 handle 10: netem delay 43.75ms 6.88ms 0.375% distribution normal"
   ]
  },
  {
   "cell_type": "markdown",
   "metadata": {},
   "source": [
    "Verificamos que se han eliminado las reglas"
   ]
  },
  {
   "cell_type": "code",
   "execution_count": null,
   "metadata": {},
   "outputs": [],
   "source": [
    "!echo {getpass()} | sudo -S tc qdisc show dev lo"
   ]
  },
  {
   "cell_type": "markdown",
   "metadata": {},
   "source": [
    "# Consideraciones finales\n",
    "\n",
    "El bitrate de minimal intercom viene dado por:\n",
    "\n",
    "$$bitrate = samplerate \\cdot number\\_channels \\cdot bits\\_per\\_sample$$\n",
    "\n",
    "Con los valores por defecto se tiene un bitrate aproximado de 1411 kbps. \n",
    "\n",
    "Si el bitrate de la conexión es menor que el bitrate de intercom $\\rightarrow$ No se escuchará nada (o solamente ruido).\n",
    "\n",
    "Si el bitrate es mayor (o igual) que el bitrate de intercom $\\rightarrow$ Se escuchará, pero cuanto más próximo sea al valor del itrate de intercom, más frecuente será la pérdida de paquetes.\n"
   ]
  }
 ],
 "metadata": {
  "kernelspec": {
   "display_name": "Python 3",
   "language": "python",
   "name": "python3"
  },
  "language_info": {
   "codemirror_mode": {
    "name": "ipython",
    "version": 3
   },
   "file_extension": ".py",
   "mimetype": "text/x-python",
   "name": "python",
   "nbconvert_exporter": "python",
   "pygments_lexer": "ipython3",
   "version": "3.8.5"
  }
 },
 "nbformat": 4,
 "nbformat_minor": 4
}
