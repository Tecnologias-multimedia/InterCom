{
 "cells": [
  {
   "cell_type": "markdown",
   "metadata": {},
   "source": [
    "<h1><center>Hito 7</center></h1>\n",
    "\n",
    "<h1><center>Impacto del Bit-Rate</center></h1>\n",
    "\n",
    "&nbsp;\n",
    "\n",
    "<center>\n",
    "Álvaro Garcı́a Garcı́a<br>\n",
    "Álvaro José Martı́nez Sánchez<br>\n",
    "José Francisco Castillo Berenguel<br>\n",
    "</center>\n",
    "    \n",
    "    \n",
    "<hr style=\"border:1px solid gray\"> </hr>\n"
   ]
  },
  {
   "cell_type": "markdown",
   "metadata": {},
   "source": [
    "# Introducción\n",
    "\n",
    "\n",
    "En el hito 6 se estudiaron los efectos de la latencia y su variación (jitter). No obstante, existen otros factores que también afectan a la conexión. En este hito se realizará el estudio de la tasa de bits (Bit rate). \n",
    "\n",
    "Este valor de bit-rate depende del ancho de banda y de la congestión de la red. La congestión de la red resulta ser un factor arbitrario en la práctica, pero el ancho de banda puede considerarse constante.\n",
    "\n",
    "La idea consistirá en obtener datos sobre el efecto del bit rate para posteriormente realizar la emulación con e comando \n",
    "`tc`"
   ]
  },
  {
   "cell_type": "markdown",
   "metadata": {},
   "source": [
    "# Estimación del bit-rate en un enlace de internet\n"
   ]
  },
  {
   "cell_type": "markdown",
   "metadata": {},
   "source": [
    "## Fundamentos"
   ]
  },
  {
   "cell_type": "markdown",
   "metadata": {},
   "source": [
    "## Consideraciones\n",
    "\n",
    "Se pide realizar distintos tipos de ping donde se incluye realizarlos con el mayor y menor payload. Para que los ping se realicen satisfactoriamente es necesario tener en cuenta estos efectos\n",
    "\n",
    "1. La cabecera de ICMPv4 ocupa 8 B.\n",
    "\n",
    "2. El valor mínimo de payload es 0. Sin embargo no se contabilizan los tiampos para payload menores de 16B (24B con la cabecera).\n",
    "\n",
    "3. El valor máximo de payload es 65507.\n"
   ]
  },
  {
   "cell_type": "markdown",
   "metadata": {},
   "source": [
    "## Procedimiento\n",
    "\n",
    "Vamos a realizar el mismo procedimiento para 3 conexiones distintas:\n",
    "\n",
    "1. Localhost\n",
    "2. Red local\n",
    "3. Conexión internet\n",
    "\n",
    "Para ello realizamos ping con el menor y mayor payload posible 16B y 65507B respectivamente. Una vez hecho, cargamos los resultados. Sin embargo al final del ping se ofrecen las estadísticas del mismo y por tanto no hay que realizar cálculos. Obtenemos los datos:"
   ]
  },
  {
   "cell_type": "code",
   "execution_count": 34,
   "metadata": {},
   "outputs": [],
   "source": [
    "!export LC_NUMERIC=en_US.UTF-8\n",
    "\n",
    "!tail -n 1 ping-minimo-internet.dat | cut -f 2 -d \"=\" | cut -f 2 -d \"/\" > average-internet.dat\n",
    "!tail -n 1 ping-maximo-internet.dat | cut -f 2 -d \"=\" | cut -f 2 -d \"/\" >> average-internet.dat\n",
    "\n",
    "!tail -n 1 ping-minimo-localhost.dat | cut -f 2 -d \"=\" | cut -f 2 -d \"/\" > average-localhost.dat\n",
    "!tail -n 1 ping-maximo-localhost.dat | cut -f 2 -d \"=\" | cut -f 2 -d \"/\" >> average-localhost.dat\n",
    "\n",
    "!tail -n 1 ping-minimo-redlocal.dat | cut -f 2 -d \"=\" | cut -f 2 -d \"/\" > average-redlocal.dat\n",
    "!tail -n 1 ping-maximo-redlocal.dat | cut -f 2 -d \"=\" | cut -f 2 -d \"/\" >> average-redlocal.dat"
   ]
  },
  {
   "cell_type": "markdown",
   "metadata": {},
   "source": [
    "Cargamos los datos en python"
   ]
  },
  {
   "cell_type": "code",
   "execution_count": 37,
   "metadata": {},
   "outputs": [
    {
     "name": "stdout",
     "output_type": "stream",
     "text": [
      "[0.037 0.163]\n",
      "[18.557 45.203]\n",
      "[27.731 56.002]\n",
      "\n",
      "[0.0185 0.0815]\n",
      "[ 9.2785 22.6015]\n",
      "[13.8655 28.001 ]\n",
      "\n",
      "[0. 0.]\n",
      "0.0\n",
      "27.731\n",
      "13.8655\n",
      "0.0\n"
     ]
    }
   ],
   "source": [
    "import numpy as np   \n",
    "    \n",
    "rtt_localhost = np.loadtxt(\"average-localhost.dat\")\n",
    "rtt_redlocal = np.loadtxt(\"average-redlocal.dat\")\n",
    "rtt_internet = np.loadtxt(\"average-internet.dat\")\n",
    "\n",
    "print(rtt_localhost)\n",
    "print(rtt_redlocal)\n",
    "print(rtt_internet)\n",
    "print()\n",
    "tp_localhost = rtt_localhost[:]/2\n",
    "tp_redlocal = rtt_redlocal[:]/2\n",
    "tp_internet = rtt_internet[:]/2\n",
    "\n",
    "print(tp_localhost)\n",
    "print(tp_redlocal)\n",
    "print(tp_internet)\n",
    "print()\n",
    "tt_localhost = (rtt_localhost[:] - 2.0 * tp_localhost[:]) / 2.0\n",
    "tt_internet = (rtt_internet[0] - 2.0 * tp_internet[0]) / 2.0\n",
    "\n",
    "print(tt_localhost)\n",
    "print(tt_internet)\n",
    "print(rtt_internet[0])\n",
    "print(tp_internet[0])\n",
    "print((rtt_internet[0] - 2.0 * tp_internet[0]))\n"
   ]
  },
  {
   "cell_type": "code",
   "execution_count": 26,
   "metadata": {},
   "outputs": [
    {
     "ename": "TypeError",
     "evalue": "empty() missing required argument 'shape' (pos 1)",
     "output_type": "error",
     "traceback": [
      "\u001b[0;31m---------------------------------------------------------------------------\u001b[0m",
      "\u001b[0;31mTypeError\u001b[0m                                 Traceback (most recent call last)",
      "\u001b[0;32m<ipython-input-26-fcf88c51612e>\u001b[0m in \u001b[0;36m<module>\u001b[0;34m\u001b[0m\n\u001b[0;32m----> 1\u001b[0;31m \u001b[0mvacio\u001b[0m \u001b[0;34m=\u001b[0m \u001b[0mnp\u001b[0m\u001b[0;34m.\u001b[0m\u001b[0mempty\u001b[0m\u001b[0;34m(\u001b[0m\u001b[0;34m)\u001b[0m\u001b[0;34m\u001b[0m\u001b[0;34m\u001b[0m\u001b[0m\n\u001b[0m\u001b[1;32m      2\u001b[0m \u001b[0mprint\u001b[0m\u001b[0;34m(\u001b[0m\u001b[0mvacio\u001b[0m\u001b[0;34m)\u001b[0m\u001b[0;34m\u001b[0m\u001b[0;34m\u001b[0m\u001b[0m\n",
      "\u001b[0;31mTypeError\u001b[0m: empty() missing required argument 'shape' (pos 1)"
     ]
    }
   ],
   "source": []
  }
 ],
 "metadata": {
  "kernelspec": {
   "display_name": "Python 3",
   "language": "python",
   "name": "python3"
  },
  "language_info": {
   "codemirror_mode": {
    "name": "ipython",
    "version": 3
   },
   "file_extension": ".py",
   "mimetype": "text/x-python",
   "name": "python",
   "nbconvert_exporter": "python",
   "pygments_lexer": "ipython3",
   "version": "3.8.5"
  }
 },
 "nbformat": 4,
 "nbformat_minor": 4
}
