{
 "cells": [
  {
   "cell_type": "markdown",
   "metadata": {},
   "source": [
    "<h1><center>Hito 7</center></h1>\n",
    "\n",
    "<h1><center>Impacto del Bit-Rate</center></h1>\n",
    "\n",
    "&nbsp;\n",
    "\n",
    "<center>\n",
    "Álvaro Garcı́a Garcı́a<br>\n",
    "Álvaro José Martı́nez Sánchez<br>\n",
    "José Francisco Castillo Berenguel<br>\n",
    "</center>\n",
    "    \n",
    "    \n",
    "<hr style=\"border:1px solid gray\"> </hr>\n"
   ]
  },
  {
   "cell_type": "markdown",
   "metadata": {},
   "source": [
    "# Introducción\n",
    "\n",
    "\n",
    "En el hito 6 se estudiaron los efectos de la latencia y su variación (jitter). No obstante, existen otros factores que también afectan a la conexión. En este hito se realizará el estudio de la tasa de bits (Bit rate). \n",
    "\n",
    "Este valor de bit-rate depende del ancho de banda y de la congestión de la red. La congestión de la red resulta ser un factor arbitrario en la práctica, pero el ancho de banda puede considerarse constante.\n",
    "\n",
    "La idea consistirá en obtener datos sobre el efecto del bit rate para posteriormente realizar la emulación con e comando \n",
    "`tc`."
   ]
  },
  {
   "cell_type": "markdown",
   "metadata": {},
   "source": [
    "# Estimación del bit-rate en un enlace de internet\n"
   ]
  },
  {
   "cell_type": "markdown",
   "metadata": {},
   "source": [
    "## Fundamentos\n",
    "\n",
    "Para calcular el bitrate entre dos dispositivos por estimación mediante ping se usa la ecuación\n",
    "\n",
    "$$\n",
    "\\begin{equation}\n",
    "b = \\dfrac{B}{t_t}\n",
    "\\end{equation}\n",
    "$$\n",
    "\n",
    "donde $B$ será el payload enviado en los ping.\n",
    "\n",
    "El valor $t_t$ deberá calcularse mediante:\n",
    "\n",
    "$$\n",
    "\\begin{equation}\n",
    "t_t = \\dfrac{RTT_{avg}^{\\infty} -2t_p}{2}\n",
    "\\end{equation}\n",
    "$$\n",
    "\n",
    "El valor de $RTT_{avg}^{\\infty}$ puede verse como:\n",
    "\n",
    "$$\n",
    "%RTT_{avg}^{\\infty} = \\lim_{n \\to \\infty} \\bigg \\{ \\sum_{i=1}^{n} \\dfrac{time_i}{n} \\bigg \\}\n",
    "RTT_{avg}^{\\infty} = \\sum_{i=1}^{n} \\dfrac{time_i}{n}\n",
    "$$\n",
    "\n",
    "donde $time_i$ es el tiempo del i-ésimo ping con payload máximo.\n",
    "\n",
    "Para obtener el valor de $t_p$ se puede utilizar la siguiente aproximación:\n",
    "\n",
    "$$\n",
    "t_p \\approx \\dfrac{RTT_{min}^{0}}{2}\n",
    "$$\n",
    "\n",
    "donde $RTT_{min}^{0}$ puede verse como\n",
    "\n",
    "$$\n",
    "RTT_{min}^{0} = \\min \\Big \\{ time_i \\; | \\; time_i \\in\\big \\{ P_{n}^{0} \\big \\} \\Big \\} \n",
    "$$\n",
    "\n",
    "siendo $P_{n}^{0}$ un sucesión de tiempos de ping con mínimo payload.\n",
    "\n",
    "Todo esto fundamento se basa en que los tiempos de cualquier sucesión de ping están superiormente acotados.\n"
   ]
  },
  {
   "cell_type": "markdown",
   "metadata": {},
   "source": [
    "## Consideraciones\n",
    "\n",
    "Se pide realizar distintos tipos de ping donde se incluye realizarlos con el mayor y menor payload. Para que los ping se realicen satisfactoriamente es necesario tener en cuenta estos efectos\n",
    "\n",
    "1. La cabecera de ICMPv4 ocupa 8 B.\n",
    "\n",
    "2. El valor mínimo de payload es 0. Sin embargo no se contabilizan los tiampos para payload menores de 16B (24B con la cabecera).\n",
    "\n",
    "3. El valor máximo de payload es 65507.\n"
   ]
  },
  {
   "cell_type": "markdown",
   "metadata": {},
   "source": [
    "## Procedimiento\n",
    "\n",
    "Vamos a realizar el mismo procedimiento para 3 conexiones distintas:\n",
    "\n",
    "1. Localhost\n",
    "2. Red local\n",
    "3. Conexión internet\n",
    "\n",
    "Para ello realizamos ping con el menor y mayor payload posible 16B y 65507B respectivamente. Una vez hecho, cargamos los resultados. Sin embargo al final del ping se ofrecen las estadísticas del mismo y por tanto no hay que realizar cálculos. Obtenemos los datos:"
   ]
  },
  {
   "cell_type": "code",
   "execution_count": 1,
   "metadata": {},
   "outputs": [],
   "source": [
    "!export LC_NUMERIC=en_US.UTF-8\n",
    "\n",
    "!tail -n 1 ping-minimo-localhost.dat | cut -f 2 -d \"=\" | cut -f 1 -d \"/\" > average-localhost.dat\n",
    "!tail -n 1 ping-maximo-localhost.dat | cut -f 2 -d \"=\" | cut -f 2 -d \"/\" >> average-localhost.dat\n",
    "\n",
    "!tail -n 1 ping-minimo-redlocal.dat | cut -f 2 -d \"=\" | cut -f 1 -d \"/\" > average-redlocal.dat\n",
    "!tail -n 1 ping-maximo-redlocal.dat | cut -f 2 -d \"=\" | cut -f 2 -d \"/\" >> average-redlocal.dat\n",
    "\n",
    "!tail -n 1 ping-minimo-internet.dat | cut -f 2 -d \"=\" | cut -f 1 -d \"/\" > average-internet.dat\n",
    "!tail -n 1 ping-maximo-internet.dat | cut -f 2 -d \"=\" | cut -f 2 -d \"/\" >> average-internet.dat\n",
    "\n",
    "!tail -n 1 ping-minimo-internet2.dat | cut -f 2 -d \"=\" | cut -f 1 -d \"/\" > average-internet2.dat\n",
    "!tail -n 1 ping-maximo-internet2.dat | cut -f 2 -d \"=\" | cut -f 2 -d \"/\" >> average-internet2.dat\n",
    "\n",
    "!tail -n 1 ping-minimo-meter.dat | cut -f 2 -d \"=\" | cut -f 1 -d \"/\" > average-meter.dat\n",
    "!tail -n 1 ping-maximo-meter.dat | cut -f 2 -d \"=\" | cut -f 2 -d \"/\" >> average-meter.dat"
   ]
  },
  {
   "cell_type": "markdown",
   "metadata": {},
   "source": [
    "Cargamos los datos en python"
   ]
  },
  {
   "cell_type": "code",
   "execution_count": 4,
   "metadata": {},
   "outputs": [
    {
     "name": "stdout",
     "output_type": "stream",
     "text": [
      "---------------------------------\n",
      "--------- Tiempos RTT -----------\n",
      "---------------------------------\n",
      "\n",
      "Mínimo localhost con payload de 16 B:             0.027\n",
      "Promedio localhost con payload de 65507 B:        0.163\n",
      "\n",
      "Mínimo en red local con payload de 16 B:          0.865\n",
      "Promedio en red local con payload de 65507 B:     45.203\n",
      "\n",
      "Mínimo en internet (1) con payload de 16 B:       26.985\n",
      "Promedio en internet (1) con payload de 65507 B:  56.002\n",
      "\n",
      "Mínimo en internet (2) con payload de 16 B:       35.751\n",
      "Promedio en internet (2) con payload de 65507 B:  104.125\n",
      "\n",
      "Mínimo a meter.net con payload de 16 B:           17.688\n",
      "Promedio a meter.net con payload de 65507 B:      58.155\n",
      "\n",
      "---------------------------------\n",
      "---- Tiempos de propagación -----\n",
      "---------------------------------\n",
      "\n",
      "Tp en localhost :     0.0135\n",
      "Tp en red local:      0.4325\n",
      "Tp en internet (1):   13.4925\n",
      "Tp en internet (2):   17.8755\n",
      "Tp a www.meter.newt:  8.844\n",
      "\n",
      "---------------------------------\n",
      "---- Tiempos de transmisión -----\n",
      "---------------------------------\n",
      "\n",
      "Tt en localhost:     0.068\n",
      "Tt en red local:     22.169\n",
      "Tt en internet (1):  14.508500000000002\n",
      "Tt en internet (2):  34.187\n",
      "Tt a www.meter.net:  20.2335\n"
     ]
    }
   ],
   "source": [
    "import numpy as np\n",
    "import matplotlib.pyplot as plt\n",
    "    \n",
    "# La primera posición el menor tiempo de ping con payload 16 \n",
    "# La segunda posición es el tiempo promedio de ping con payload 65507\n",
    "    \n",
    "rtt_localhost = np.loadtxt(\"average-localhost.dat\")\n",
    "rtt_redlocal = np.loadtxt(\"average-redlocal.dat\")\n",
    "rtt_internet = np.loadtxt(\"average-internet.dat\")\n",
    "rtt_internet2 = np.loadtxt(\"average-internet2.dat\")\n",
    "rtt_meter = np.loadtxt(\"average-meter.dat\")\n",
    "\n",
    "print(\"---------------------------------\")\n",
    "print(\"--------- Tiempos RTT -----------\")\n",
    "print(\"---------------------------------\")\n",
    "\n",
    "print(\"\\nMínimo localhost con payload de 16 B:            \",rtt_localhost[0])\n",
    "print(\"Promedio localhost con payload de 65507 B:       \",rtt_localhost[1])\n",
    "\n",
    "print(\"\\nMínimo en red local con payload de 16 B:         \",rtt_redlocal[0])\n",
    "print(\"Promedio en red local con payload de 65507 B:    \",rtt_redlocal[1])\n",
    "\n",
    "print(\"\\nMínimo en internet (1) con payload de 16 B:      \",rtt_internet[0])\n",
    "print(\"Promedio en internet (1) con payload de 65507 B: \",rtt_internet[1])\n",
    "\n",
    "print(\"\\nMínimo en internet (2) con payload de 16 B:      \",rtt_internet2[0])\n",
    "print(\"Promedio en internet (2) con payload de 65507 B: \",rtt_internet2[1])\n",
    "\n",
    "print(\"\\nMínimo a meter.net con payload de 16 B:          \",rtt_meter[0])\n",
    "print(\"Promedio a meter.net con payload de 65507 B:     \",rtt_meter[1])\n",
    "\n",
    "tp_localhost = rtt_localhost[0]/2\n",
    "tp_redlocal = rtt_redlocal[0]/2\n",
    "tp_internet = rtt_internet[0]/2\n",
    "tp_internet2 = rtt_internet2[0]/2\n",
    "tp_meter = rtt_meter[0]/2\n",
    "\n",
    "print(\"\\n---------------------------------\")\n",
    "print(\"---- Tiempos de propagación -----\")\n",
    "print(\"---------------------------------\\n\")\n",
    "\n",
    "print(\"Tp en localhost :    \", tp_localhost)\n",
    "print(\"Tp en red local:     \", tp_redlocal)\n",
    "print(\"Tp en internet (1):  \", tp_internet)\n",
    "print(\"Tp en internet (2):  \", tp_internet2)\n",
    "print(\"Tp a www.meter.newt: \", tp_meter)\n",
    "\n",
    "transmision_time = lambda rtt, tp: (rtt - 2.0 * tp) / 2.0\n",
    "\n",
    "tt_localhost = (rtt_localhost[1] - 2.0 * tp_localhost) / 2.0\n",
    "tt_redlocal = (rtt_redlocal[1] - 2.0 * tp_redlocal) / 2.0\n",
    "tt_internet = (rtt_internet[1] - 2.0 * tp_internet) / 2.0\n",
    "tt_internet2 = (rtt_internet2[1] - 2.0 * tp_internet2) / 2.0\n",
    "tt_meter= (rtt_meter[1] - 2.0 * tp_meter) / 2.0\n",
    "\n",
    "print(\"\\n---------------------------------\")\n",
    "print(\"---- Tiempos de transmisión -----\")\n",
    "print(\"---------------------------------\\n\")\n",
    "print(\"Tt en localhost:    \", tt_localhost)\n",
    "print(\"Tt en red local:    \", tt_redlocal)\n",
    "print(\"Tt en internet (1): \", tt_internet)\n",
    "print(\"Tt en internet (2): \", tt_internet2)\n",
    "print(\"Tt a www.meter.net: \", tt_meter)\n",
    "\n",
    "bitrate = lambda B, tt: (B/tt) \n",
    "\n",
    "#space = np.linspace(0,65507, 65507)\n",
    "#plt.plot(space, bitrate(space, tt_localhost), 'g',linewidth=3, label='Localhost') \n",
    "#plt.plot(space, bitrate(space, tt_redlocal), 'b',linewidth=3, label='Red Local') \n",
    "#plt.plot(space, bitrate(space, tt_internet), 'r',linewidth=3, label='Internet')\n",
    "#plt.plot(space, bitrate(space, tt_internet2), 'y',linewidth=3, label='Internet2')\n",
    "#plt.ylabel(ylabel=\"Bit rate\")\n",
    "#plt.xlabel(xlabel=\"Número de bits enviados\")\n",
    "#plt.legend()\n",
    "#plt.show()\n",
    "#print(len(space))\n",
    "#print(bitrate(space,10))"
   ]
  },
  {
   "cell_type": "code",
   "execution_count": 21,
   "metadata": {},
   "outputs": [],
   "source": [
    "\n",
    "#plt.plot(space, bitrate(space, tt_redlocal), 'b',linewidth=3, label='Red Local') \n",
    "#plt.plot(space, bitrate(space, tt_internet), 'r',linewidth=3, label='Internet')\n",
    "#plt.plot(space, bitrate(space, tt_internet2), 'y',linewidth=3, label='Internet2')\n",
    "#plt.ylabel(ylabel=\"Bit rate\")\n",
    "#plt.xlabel(xlabel=\"Número de bits enviados\")\n",
    "#plt.legend()\n",
    "#plt.show()\n",
    "\n",
    "#print(bitrate(space, tt_internet))"
   ]
  },
  {
   "cell_type": "markdown",
   "metadata": {},
   "source": [
    "# Simulación del enlace\n",
    "\n",
    "Una vez se tienen los valores de bitrate, se procede a mejorar la simulación realizada en el hito anterior. Para ello se hace uso del comando  `tc`. Primero se calculan los bitrate. En este caso, se deben realizar con el valor B del maximo payload, puesto que los resultados de ping están condicionados a ese valor."
   ]
  },
  {
   "cell_type": "code",
   "execution_count": 5,
   "metadata": {},
   "outputs": [
    {
     "name": "stdout",
     "output_type": "stream",
     "text": [
      "Bitrate en localhost:     7706705.882352941\n",
      "Bitrate en red local:     23639.135730073525\n",
      "Bitrate en internet (1):  36120.618947513525\n",
      "Bitrate en internet (2):  15329.101705326588\n",
      "Bitrate a www.meter.net:  25900.41268193837\n"
     ]
    }
   ],
   "source": [
    "bitrate_localhost = bitrate(65507*8, tt_localhost)\n",
    "bitrate_redlocal = bitrate(65507*8, tt_redlocal)\n",
    "bitrate_internet = bitrate(65507*8, tt_internet)\n",
    "bitrate_internet2 = bitrate(65507*8, tt_internet2)\n",
    "bitrate_meter = bitrate(65507*8, tt_meter)\n",
    "\n",
    "print(\"Bitrate en localhost:    \", bitrate_localhost)\n",
    "print(\"Bitrate en red local:    \", bitrate_redlocal)\n",
    "print(\"Bitrate en internet (1): \", bitrate_internet)\n",
    "print(\"Bitrate en internet (2): \", bitrate_internet2)\n",
    "print(\"Bitrate a www.meter.net: \", bitrate_meter)"
   ]
  },
  {
   "cell_type": "markdown",
   "metadata": {},
   "source": [
    "Se procede a emular la latencia y la pérdida de paquetes. Para ello, primero se debe ver la configuración"
   ]
  },
  {
   "cell_type": "code",
   "execution_count": 6,
   "metadata": {},
   "outputs": [
    {
     "name": "stdout",
     "output_type": "stream",
     "text": [
      "qdisc noqueue 0: root refcnt 2 \r\n"
     ]
    }
   ],
   "source": [
    "!tc qdisc show dev lo "
   ]
  },
  {
   "cell_type": "markdown",
   "metadata": {},
   "source": [
    "Imponemos la regla para emular el bitrate"
   ]
  },
  {
   "cell_type": "code",
   "execution_count": 7,
   "metadata": {},
   "outputs": [
    {
     "name": "stdout",
     "output_type": "stream",
     "text": [
      "········\n",
      "[sudo] password for cobeguel: "
     ]
    }
   ],
   "source": [
    "from getpass import getpass\n",
    "!echo {getpass()} | sudo -S tc qdisc add dev lo root handle 1: tbf rate 15329kbit burst 32kbit limit 32kbit"
   ]
  },
  {
   "cell_type": "markdown",
   "metadata": {},
   "source": [
    "Se activa la regla del hito anterior"
   ]
  },
  {
   "cell_type": "code",
   "execution_count": null,
   "metadata": {},
   "outputs": [],
   "source": [
    "!echo {getpass()} | sudo -S tc qdisc add dev lo parent 1:1 handle 10: netem delay 43.75ms 6.88ms 0.375% distribution normal"
   ]
  },
  {
   "cell_type": "markdown",
   "metadata": {},
   "source": [
    "Visualizamos la configuración"
   ]
  },
  {
   "cell_type": "code",
   "execution_count": null,
   "metadata": {},
   "outputs": [],
   "source": [
    "!echo {getpass()} | sudo -S tc qdisc show dev lo"
   ]
  },
  {
   "cell_type": "markdown",
   "metadata": {},
   "source": [
    "A continuación ejecutamos intercom y evaluamos la calidad de la experiencia"
   ]
  },
  {
   "cell_type": "markdown",
   "metadata": {},
   "source": [
    "Resultados"
   ]
  },
  {
   "cell_type": "markdown",
   "metadata": {},
   "source": [
    "Finalmente borramos las reglas"
   ]
  },
  {
   "cell_type": "code",
   "execution_count": null,
   "metadata": {},
   "outputs": [],
   "source": [
    "!echo {getpass()} | sudo -S tc qdisc delete dev lo root handle 1: tbf rate 15329kbit burst 32kbit limit 32kbit\n",
    "!echo {getpass()} | sudo -S tc qdisc delete dev lo parent 1:1 handle 10: netem delay 43.75ms 6.88ms 0.375% distribution normal"
   ]
  },
  {
   "cell_type": "markdown",
   "metadata": {},
   "source": [
    "Verificamos que se han eliminado las reglas"
   ]
  },
  {
   "cell_type": "code",
   "execution_count": null,
   "metadata": {},
   "outputs": [],
   "source": [
    "!echo {getpass()} | sudo -S tc qdisc show dev lo"
   ]
  },
  {
   "cell_type": "markdown",
   "metadata": {},
   "source": [
    "# Consideraciones finales\n",
    "\n",
    "El bitrate de minimal intercom viene dado por:\n",
    "\n",
    "$$bitrate = samplerate \\cdot number\\_channels \\cdot bits\\_per\\_sample$$\n",
    "\n",
    "Con los valores por defecto se tiene un bitrate aproximado de 1411 kbps. \n",
    "\n",
    "Si el bitrate de la conexión es menor que el bitrate de intercom  $\\rightarrow$ No se escuchará nada (o solamente ruido).\n",
    "\n",
    "Si el bitrate es mayor (o igual) que el bitrate de intercom  $\\rightarrow$ Se escuchará, pero cuanto más próximo sea al valor del itrate de intercom, más frecuente será la pérdida de paquetes.\n"
   ]
  }
 ],
 "metadata": {
  "kernelspec": {
   "display_name": "Python 3",
   "language": "python",
   "name": "python3"
  },
  "language_info": {
   "codemirror_mode": {
    "name": "ipython",
    "version": 3
   },
   "file_extension": ".py",
   "mimetype": "text/x-python",
   "name": "python",
   "nbconvert_exporter": "python",
   "pygments_lexer": "ipython3",
   "version": "3.8.5"
  }
 },
 "nbformat": 4,
 "nbformat_minor": 4
}
