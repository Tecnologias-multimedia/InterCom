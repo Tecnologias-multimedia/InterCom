{
 "cells": [
  {
   "cell_type": "markdown",
   "metadata": {},
   "source": [
    "<h1><center>Hito 8</center></h1>\n",
    "\n",
    "<h1><center>Buffering for dejitterizing</center></h1>\n",
    "\n",
    "&nbsp;\n",
    "\n",
    "<center>\n",
    "Álvaro Garcı́a Garcı́a<br>\n",
    "Álvaro José Martı́nez Sánchez<br>\n",
    "José Francisco Castillo Berenguel<br>\n",
    "</center>\n",
    "    \n",
    "    \n",
    "<hr style=\"border:1px solid gray\"> </hr>"
   ]
  },
  {
   "cell_type": "markdown",
   "metadata": {},
   "source": [
    "# Introducción\n",
    "\n",
    "\n",
    "En el presente hito, haremos una pequeña mejora del proyecto InterCom. Dicha mejora consistirá en transmitir los chunks en un buffer y recogerlos en otro distinto. Estos buffers tendrán ciertas propiedades que se explicarán a continuación.  \n",
    "&nbsp;"
   ]
  },
  {
   "cell_type": "markdown",
   "metadata": {},
   "source": [
    "# Fundamentos\n",
    "\n",
    "La siguiente figura muestra las diferencias entre una ejecución sin ningun sistema que permita reducir los efectos del jitter y otra ejecución que dispone de un mecanismo basado en un buffer para reducir dichos efectos.\n"
   ]
  },
  {
   "cell_type": "markdown",
   "metadata": {},
   "source": [
    "<center><img src=\"timelines.svg\" align=\"center\"/></center>"
   ]
  },
  {
   "cell_type": "markdown",
   "metadata": {},
   "source": [
    "&nbsp;\n",
    "\n",
    "La solución consiste en utilizar un buffer donde se almacenen los chunks que se reciben. Debido a la susceptibilidad de que los paquetes se desordenen por la variación del jitter y la propia latencia, no podemos guardar los paquetes que llegan en el orden de llegada. Por consiguiente, se deberá enviar un índice que permita la ordenación de dichos paquetes.\n",
    "\n",
    "&nbsp;\n",
    "\n",
    "## Cola circular\n",
    "\n",
    "El buffer se implementará mediante una cola circular. Para dicha cola se requiere de un identificador que apunte a la cabeza de la cola desde donde, se recogeran los paquetes que se reproduciran. Sin embargo, no se requiere de un identificador del fin de la cola, ya que los paquetes poseran un identificador propio. "
   ]
  },
  {
   "cell_type": "markdown",
   "metadata": {},
   "source": [
    "<center><img src=\"circular_buffer1.svg\" width=\"240\" height=\"240\" align=\"center\"/></center>"
   ]
  },
  {
   "cell_type": "markdown",
   "metadata": {},
   "source": [
    "&nbsp;\n",
    "\n",
    "El proceso de dejitterizing con una cola circular requiere que la misma sea de un tamaño de al menos dos veces el jitter. Dado que el jitter es tiempo, para convertirlo en tamaño de cola, lo pasaremos a tiempos de chunk y por consiguiente será una cola de chunks, donde cada celda puede verse como un chunk o un tiempo de reproducción de audio. \n",
    "\n",
    "<b>NOTA:</b> La cola debe de estar medio llena antes de reproducir (extraer audio)."
   ]
  },
  {
   "cell_type": "markdown",
   "metadata": {},
   "source": [
    "## Struct \n",
    "\n",
    "Para poder concatenar el índice de los paquetes con el payload de los mismos, se procederá con el uso del paquete struct (aunque es posible concatenarlos únicamente utilizando la librería numpy).\n",
    "\n",
    "Se utilizarán solamente las funciones `pack` y `unpack`. Dichas funciones requieren de la especificación de un formato. Para nuestros propósitos, el formato viene dado por la concatenación de un entero sin signo de 16 bits junto con vector de enteros con signo 16 bits. Dicho formato se expresa de la siguiente forma.\n",
    "\n",
    "\n",
    "```Python\n",
    "pack_format = f\"H{args.frames_per_chunk * self.NUMBER_OF_CHANNELS}h\"\n",
    "```"
   ]
  },
  {
   "cell_type": "markdown",
   "metadata": {},
   "source": [
    "&nbsp;\n",
    "# Implementación\n",
    "\n",
    "Se exige realizar una implementación fundamentada en dos funciones. \n",
    "\n",
    "$$\n",
    "\\begin{align*}\n",
    "&\\textbf{Record_Send_and_Play()}\\\\\n",
    "& \\begin{cases}\n",
    "\\text{chunk} ← \\text{record()}\\\\\n",
    "\\text{packed_chunk} ← \\text{pack(chunk)}\\\\\n",
    "\\text{send(packed_chunk)}\\\\\n",
    "\\text{chunk←unbuffer_next_chunk()}\\\\\n",
    "\\text{play(chunk)}\n",
    "\\end{cases} \\\\ \\\\\n",
    "&\\textbf{Receive_and_Buffer()}\\\\\n",
    "& \\begin{cases}\n",
    "\\text{packed_chunk←receive()}\\\\\n",
    "\\text{chunk_number, chunk←unpack(packed_chunk)}\\\\\n",
    "\\text{buffer(chunk_number, chunk)}\n",
    "\\end{cases}\n",
    "\\end{align*}\n",
    "$$\n",
    "\n",
    "&nbsp;\n",
    "\n",
    "Para ello, se debe crear el módulo buffer que herede de la clase `minimal.py` realizado en el ejercicio 5. Esto reduce el número de métodos que se deben implementar, pero será necesario \"sobrecargar\" algunos de los métodos de la clase `minimal.py`.\n",
    "\n",
    "## Constructor\n",
    "\n",
    "Dado que la clase `buffer.py` hereda de `minimal.py`, lo primero que sebe hacer es llamar al contructor de la clase padre de la forma: `super().__init__()`.\n",
    "\n",
    "Seguidamente se declaran los atributos necesarios, como la cola o las variables que se necesitan para acceder a ella misma. \n",
    "\n",
    "## Variables notorias\n",
    "\n",
    "Se presentan las siguientes variables:\n",
    "<br>\n",
    "1. `head_cell`: Posee el índice de la cabeza de la cola. \n",
    "2. `index_remote_cell`: Posee el identificador del siguiente chunk que se va a enviar. \n",
    "\n",
    "De forma general, se tiene que:\n",
    "\n",
    "$$ \\text{index_local_cell} \\leq \\text{index_remote_cell}$$\n",
    "\n",
    "\n",
    "## Record_Send_and_Play()\n",
    "\n",
    "Se trata de la función callback que va a utilizar sounddevice. El procedimiento consiste en:\n",
    "\n",
    "1. Generar el objeto struct que contiene el identificar del paquete que se va a enviar el propio chunk. Dado que el chunk proporcionado por sounddevice es de tipo numpy, se requiere el uso de la función `flatten`, la cual trasnforma un vector de n dimensiones en uno de m dimensión.\n",
    "\n",
    "```Python\n",
    "chunk = struct.pack(self.pack_format, self.index_remote_cell, *(data.flatten()))\n",
    "```\n",
    "\n",
    "2. Enviar el chunk por medio del socket. Esto puede realizarse por medio de la función de la clase padre.\n",
    "\n",
    "```Python\n",
    "super().send(chunk)\n",
    "```\n",
    "\n",
    "3. Identificar el siguiente chunk a reproducir. Se presentan los siguientes casos:\n",
    "\n",
    "\n",
    "        A. No se ha llenado el buffer a la mitad: se reproduce un chunk de ceros. \n",
    "    \n",
    "```Python\n",
    "to_play = self.zero_chunk\n",
    "```\n",
    "        B. Se toma la cabeza de la cola. En última instancia, en caso de que el chunk no ha llegado, se toma un chunk de ceros. \n",
    "  \n",
    "```Python\n",
    "to_play = self.buffer[self.buffer_head]\n",
    "self.buffer[position] = self.zero_chunk\n",
    "self.filled_cells = self.filled_cells - 1\n",
    "```\n",
    "  \n",
    "4. Se le proporciona el chunk correspondiente (chunk resultante del paso 3) al flujo del sounddevice.\n",
    "```Python\n",
    "outdata[:] = to_play\n",
    "```\n",
    "\n",
    "5. Se actualizan las secuencias de los paquetes local y remoto. \n",
    "```Python\n",
    "self.head_cell = self.update_head()\n",
    "self.index_remote_cell = self.update_remote_index()\n",
    "```\n",
    "\n",
    "## Receive_and_Buffer()\n",
    "\n",
    "Esta función se ejecuta en la hebra principal tras convocar al método de sounddevice. El procedimiento consiste en: \n",
    "\n",
    "1. Recibir un paquete. Pueden ocurrir las siguientes dos situaciones:\n",
    "```Python\n",
    "packed_data = self.receive()\n",
    "```\n",
    "    A. El paquete llega y se procede a desempaquetarlo y guardarlo en el buffer\n",
    "    \n",
    "    \n",
    "    B. No hay ningún paquete en el socket. Salta una excepción. \n",
    "\n",
    "2. Se desempaqueta y reconstruye el vector de numpy con el audio.\n",
    "\n",
    "```Python\n",
    "unpacked_data = struct.unpack(self.pack_format, packed_data)\n",
    "chunk_index = self.to_u16(unpacked_data[0])\n",
    "data = np.array(unpacked_data[1:])\n",
    "data = data.reshape(args.frames_per_chunk, self.NUMBER_OF_CHANNELS)\n",
    "```\n",
    "\n",
    "3. Se almacena el chunk en el buffer.\n",
    "\n",
    "```Python\n",
    "self.buffer[chunk_index % self.buffer_size] = data\n",
    "self.filled_cells = self.filled_cells + 1\n",
    "```\n",
    "\n",
    "# Consideraciones finales\n",
    "\n",
    "Para el correcto funcionamiento se requiere resolver las siguientes cuestiones:\n",
    "\n",
    "1. Hay que añadir un argumento que permita la introducción del parámetro asociado al jitter.\n",
    "\n",
    "\n",
    "2. Antes de ejecutar la función de sounddevice, hay que asegurarse que el socket está en modo no bloqueante.\n",
    "\n",
    "\n",
    "3. Al introducir exactamente el tiempo de jitter empleado en la regla de `tc`, se reduce notariamente el jitter. No obstante, si se introduce una cota superior de dicho valor, mejorará la calidad del audio pero como consecuencia, aumentará la latencia. "
   ]
  },
  {
   "cell_type": "markdown",
   "metadata": {},
   "source": [
    "\n",
    "# Documentación de buffer.py\n",
    "[`Buffer.py`](buffer.html)"
   ]
  }
 ],
 "metadata": {
  "kernelspec": {
   "display_name": "Python 3",
   "language": "python",
   "name": "python3"
  },
  "language_info": {
   "codemirror_mode": {
    "name": "ipython",
    "version": 3
   },
   "file_extension": ".py",
   "mimetype": "text/x-python",
   "name": "python",
   "nbconvert_exporter": "python",
   "pygments_lexer": "ipython3",
   "version": "3.8.5"
  }
 },
 "nbformat": 4,
 "nbformat_minor": 4
}
