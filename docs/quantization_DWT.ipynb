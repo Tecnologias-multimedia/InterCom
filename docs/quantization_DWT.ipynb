{
 "cells": [
  {
   "cell_type": "markdown",
   "metadata": {},
   "source": [
    "# Chunk discontinuities in quantized block-based (non-overlapped) DWT-transformed audio signals\n",
    "\n",
    "Let's research how quantization affects to the reconstruction of the chunks when they are DWT-tansformed."
   ]
  },
  {
   "cell_type": "code",
   "execution_count": null,
   "metadata": {},
   "outputs": [],
   "source": [
    "import sounddevice as sd\n",
    "!pip install pywavelets\n",
    "import pywt\n",
    "import math\n",
    "!pip install numpy\n",
    "import numpy as np\n",
    "%matplotlib inline\n",
    "!pip install matplotlib\n",
    "import matplotlib\n",
    "import matplotlib.pyplot as plt\n",
    "!pip install scipy\n",
    "from scipy import signal\n",
    "!pip install ipywidgets\n",
    "from ipywidgets import interact, interactive, fixed, interact_manual\n",
    "import ipywidgets as widgets\n",
    "!pip install pylab\n",
    "import pylab"
   ]
  },
  {
   "cell_type": "markdown",
   "metadata": {},
   "source": [
    "## Capture an audio sequence"
   ]
  },
  {
   "cell_type": "code",
   "execution_count": null,
   "metadata": {},
   "outputs": [],
   "source": [
    "def plot(y, xlabel='', ylabel='', title='', marker='.'):\n",
    "    fig = plt.figure()\n",
    "    ax = fig.add_subplot(111)\n",
    "    ax.set_title(title)\n",
    "    ax.grid()\n",
    "    ax.xaxis.set_label_text(xlabel)\n",
    "    ax.yaxis.set_label_text(ylabel)\n",
    "    x = np.linspace(0, len(y)-1, num=len(y))\n",
    "    ax.plot(x, y, marker, markersize=1)\n",
    "    plt.show(block=False)"
   ]
  },
  {
   "cell_type": "code",
   "execution_count": null,
   "metadata": {},
   "outputs": [],
   "source": [
    "fs = 44100\n",
    "duration = 80000/44100  # seconds\n",
    "signal = sd.rec(int(duration * fs), samplerate=fs, channels=1, dtype=np.int16)\n",
    "print(\"Say something!\")\n",
    "while sd.wait():\n",
    "    pass\n",
    "print(\"done\")\n",
    "signal = signal.flatten()"
   ]
  },
  {
   "cell_type": "code",
   "execution_count": null,
   "metadata": {},
   "outputs": [],
   "source": [
    "plot(signal, \"sample\", \"amplitude\", \"original\")"
   ]
  },
  {
   "cell_type": "markdown",
   "metadata": {},
   "source": [
    "### Configuration of the experiment"
   ]
  },
  {
   "cell_type": "code",
   "execution_count": null,
   "metadata": {},
   "outputs": [],
   "source": [
    "levels = 3           # Number of levels of the DWT\n",
    "filters_name = \"db5\"\n",
    "#filters_name = \"haar\"\n",
    "#filters_name = \"db11\"\n",
    "#filters_name = \"db20\"\n",
    "#filters_name = \"bior2.2\"\n",
    "#filters_name = \"bior3.5\"\n",
    "#filters_name = \"rbio2.2\"\n",
    "wavelet = pywt.Wavelet(filters_name)\n",
    "signal_mode_extension = \"per\"\n",
    "quantization_step = 256\n",
    "chunk_size = 128\n",
    "chunk_number = 150"
   ]
  },
  {
   "cell_type": "markdown",
   "metadata": {},
   "source": [
    "## Dead-zone quantizer"
   ]
  },
  {
   "cell_type": "code",
   "execution_count": null,
   "metadata": {},
   "outputs": [],
   "source": [
    "def deadzone_quantizer(x, quantization_step):\n",
    "    k = (x / quantization_step).astype(np.int)\n",
    "    return k\n",
    "\n",
    "def deadzone_dequantizer(k, quantization_step):\n",
    "    y = quantization_step * k\n",
    "    return y"
   ]
  },
  {
   "cell_type": "markdown",
   "metadata": {},
   "source": [
    "## Extract 3 consecutive chunks from the audio sequence"
   ]
  },
  {
   "cell_type": "code",
   "execution_count": null,
   "metadata": {},
   "outputs": [],
   "source": [
    "left_chunk = signal[chunk_size * (chunk_number - 1) : chunk_size * chunk_number]\n",
    "center_chunk = signal[chunk_size * chunk_number : chunk_size * (chunk_number + 1)]\n",
    "right_chunk = signal[chunk_size * (chunk_number + 1) : chunk_size * (chunk_number + 2)]\n",
    "chunks = np.concatenate([left_chunk, center_chunk, right_chunk])\n",
    "pylab.plot(np.linspace(0, len(left_chunk)-1, len(left_chunk)), left_chunk)\n",
    "pylab.plot(np.linspace(len(left_chunk), len(left_chunk) + len(center_chunk) - 1, len(center_chunk)), center_chunk)\n",
    "pylab.plot(np.linspace(len(left_chunk) + len(center_chunk), len(left_chunk) + len(center_chunk) + len(right_chunk) - 1, len(right_chunk)), right_chunk)\n",
    "pylab.xlabel(\"sample\")\n",
    "pylab.ylabel(\"amplitude\")\n",
    "pylab.title(\"3 chunks\")\n",
    "pylab.show()"
   ]
  },
  {
   "cell_type": "markdown",
   "metadata": {},
   "source": [
    "## Algorithm 0: Quantization of the chunks in the DWT domain\n",
    "\n",
    "* For each chunk:\n",
    "    * Transform.\n",
    "    * Quantize.\n",
    "    * Dequantize.\n",
    "    * Detransform."
   ]
  },
  {
   "cell_type": "code",
   "execution_count": null,
   "metadata": {},
   "outputs": [],
   "source": [
    "def transform_and_quantize(chunk):\n",
    "    decomposition = pywt.wavedec(chunk, wavelet=wavelet, level=levels, mode=signal_mode_extension)\n",
    "    quantized_decomposition = []\n",
    "    for subband in decomposition:\n",
    "        quantized_subband = deadzone_quantizer(subband, quantization_step)\n",
    "        quantized_decomposition.append(quantized_subband)\n",
    "    return quantized_decomposition\n",
    "    \n",
    "def dequantize_and_detransform(decomposition):\n",
    "    dequantized_decomposition = []\n",
    "    for subband in decomposition:\n",
    "        dequantized_subband = deadzone_dequantizer(subband, quantization_step)\n",
    "        dequantized_decomposition.append(dequantized_subband)\n",
    "    chunk = pywt.waverec(dequantized_decomposition, wavelet=wavelet, mode=signal_mode_extension)\n",
    "    return chunk\n",
    "\n",
    "def reconstruct_chunk(chunk):\n",
    "    quantization_indexes = transform_and_quantize(chunk)\n",
    "    reconstructed_chunk = dequantize_and_detransform(quantization_indexes)\n",
    "    return reconstructed_chunk\n",
    "    \n",
    "reconstructed_left_chunk = reconstruct_chunk(left_chunk)\n",
    "reconstructed_center_chunk = reconstruct_chunk(center_chunk)\n",
    "reconstructed_right_chunk = reconstruct_chunk(right_chunk)\n",
    "ideal_chunks_reconstruction = reconstruct_chunk(chunks)\n",
    "\n",
    "pylab.plot(np.linspace(0, len(reconstructed_left_chunk)-1, len(reconstructed_left_chunk)), reconstructed_left_chunk)\n",
    "pylab.plot(np.linspace(len(reconstructed_left_chunk), len(reconstructed_left_chunk) + len(reconstructed_center_chunk) - 1, len(reconstructed_center_chunk)), reconstructed_center_chunk)\n",
    "pylab.plot(np.linspace(len(reconstructed_left_chunk) + len(reconstructed_center_chunk), len(reconstructed_left_chunk) + len(reconstructed_center_chunk) + len(reconstructed_right_chunk) - 1, len(reconstructed_right_chunk)), reconstructed_right_chunk)\n",
    "pylab.plot(np.linspace(0, len(ideal_chunks_reconstruction)-1, len(ideal_chunks_reconstruction)), ideal_chunks_reconstruction, linestyle='dotted', label=\"ideal\")\n",
    "pylab.xlabel(\"sample\")\n",
    "pylab.ylabel(\"amplitude\")\n",
    "pylab.title(\"reconstruction of the 3 chunks\")\n",
    "pylab.legend(loc='upper right')\n",
    "pylab.show()"
   ]
  },
  {
   "cell_type": "code",
   "execution_count": null,
   "metadata": {},
   "outputs": [],
   "source": []
  }
 ],
 "metadata": {
  "kernelspec": {
   "display_name": "Python 3 (ipykernel)",
   "language": "python",
   "name": "python3"
  },
  "language_info": {
   "codemirror_mode": {
    "name": "ipython",
    "version": 3
   },
   "file_extension": ".py",
   "mimetype": "text/x-python",
   "name": "python",
   "nbconvert_exporter": "python",
   "pygments_lexer": "ipython3",
   "version": "3.9.7"
  }
 },
 "nbformat": 4,
 "nbformat_minor": 4
}
