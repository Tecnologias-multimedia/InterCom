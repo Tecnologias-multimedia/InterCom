{
 "cells": [
  {
   "cell_type": "markdown",
   "metadata": {},
   "source": [
    "# Arithmetic Speed"
   ]
  },
  {
   "cell_type": "code",
   "execution_count": null,
   "metadata": {},
   "outputs": [],
   "source": [
    "import numpy as np\n",
    "\n",
    "x = np.random.randint(low=-32768, high=32767, size=2**17, dtype=np.int16).reshape(2**16, 2)"
   ]
  },
  {
   "cell_type": "markdown",
   "metadata": {},
   "source": [
    "## 16-bits integer arithmetic"
   ]
  },
  {
   "cell_type": "code",
   "execution_count": null,
   "metadata": {},
   "outputs": [],
   "source": [
    "y = np.empty_like(x)\n",
    "\n",
    "%timeit y[:, 0] = (x[:, 0] + x[:, 1]) / 2"
   ]
  },
  {
   "cell_type": "code",
   "execution_count": null,
   "metadata": {},
   "outputs": [],
   "source": [
    "for i in range(len(y[:, 0])):\n",
    "    correct_value = ((x[i, 0].astype(np.float) + x[i, 1]) / 2).astype(np.int16)\n",
    "    if y[i, 0] != correct_value:\n",
    "        print(\"error\", i, x[i, 0], x[i, 1], y[i, 0], correct_value)\n",
    "        break"
   ]
  },
  {
   "cell_type": "markdown",
   "metadata": {},
   "source": [
    "## 32-bits integer arithmetic"
   ]
  },
  {
   "cell_type": "code",
   "execution_count": null,
   "metadata": {},
   "outputs": [],
   "source": [
    "y = np.empty_like(x, dtype=np.int32)"
   ]
  },
  {
   "cell_type": "code",
   "execution_count": null,
   "metadata": {},
   "outputs": [],
   "source": [
    "%timeit y[:, 0] = (x[:, 0].astype(np.int32) + x[:, 1]) / 2"
   ]
  },
  {
   "cell_type": "code",
   "execution_count": null,
   "metadata": {},
   "outputs": [],
   "source": [
    "for i in range(len(y[:, 0])):\n",
    "    correct_value = ((x[i, 0].astype(np.float) + x[i, 1]) / 2).astype(np.int32)\n",
    "    if y[i, 0] != correct_value:\n",
    "        print(\"error\", i, x[i, 0], x[i, 1], y[i, 0], correct_value)\n",
    "        break"
   ]
  },
  {
   "cell_type": "markdown",
   "metadata": {},
   "source": [
    "## 32-bits floating point arithmetic"
   ]
  },
  {
   "cell_type": "code",
   "execution_count": null,
   "metadata": {},
   "outputs": [],
   "source": [
    "y = np.empty_like(x, dtype=np.float32)\n",
    "\n",
    "%timeit y[:, 0] = (x[:, 0].astype(np.float32) + x[:, 1])/2"
   ]
  },
  {
   "cell_type": "code",
   "execution_count": null,
   "metadata": {},
   "outputs": [],
   "source": [
    "for i in range(len(y[:, 0])):\n",
    "    correct_value = (x[i, 0].astype(np.float) + x[i, 1]) / 2\n",
    "    if y[i, 0] != correct_value:\n",
    "        print(\"error\", i, x[i, 0], x[i, 1], y[i, 0], correct_value)\n",
    "        break"
   ]
  },
  {
   "cell_type": "markdown",
   "metadata": {},
   "source": [
    "## 64-bits floating point arithmetic"
   ]
  },
  {
   "cell_type": "code",
   "execution_count": null,
   "metadata": {},
   "outputs": [],
   "source": [
    "y = np.empty_like(x, dtype=np.float64)\n",
    "\n",
    "%timeit y[:, 0] = (x[:, 0].astype(np.float64) + x[:, 1])/2"
   ]
  },
  {
   "cell_type": "code",
   "execution_count": null,
   "metadata": {},
   "outputs": [],
   "source": [
    "for i in range(len(y[:, 0])):\n",
    "    correct_value = (x[i, 0].astype(np.float) + x[i, 1]) / 2\n",
    "    if y[i, 0] != correct_value:\n",
    "        print(\"error\", i, x[i, 0], x[i, 1], y[i, 0], correct_value)\n",
    "        break"
   ]
  },
  {
   "cell_type": "markdown",
   "metadata": {},
   "source": [
    "## Conclusion\n",
    "\n",
    "We can use 32-bits pixed-point (integer) arithmetic when the input data are 16-bits integers."
   ]
  }
 ],
 "metadata": {
  "kernelspec": {
   "display_name": "Python 3",
   "language": "python",
   "name": "python3"
  },
  "language_info": {
   "codemirror_mode": {
    "name": "ipython",
    "version": 3
   },
   "file_extension": ".py",
   "mimetype": "text/x-python",
   "name": "python",
   "nbconvert_exporter": "python",
   "pygments_lexer": "ipython3",
   "version": "3.9.6"
  }
 },
 "nbformat": 4,
 "nbformat_minor": 2
}
