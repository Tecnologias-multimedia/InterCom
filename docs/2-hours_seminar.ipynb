{
 "cells": [
  {
   "cell_type": "markdown",
   "metadata": {
    "colab_type": "text",
    "id": "view-in-github"
   },
   "source": [
    "<a href=\"https://colab.research.google.com/github/Tecnologias-multimedia/InterCom/blob/master/docs/2-hours_seminar.ipynb\" target=\"_parent\"><img src=\"https://colab.research.google.com/assets/colab-badge.svg\" alt=\"Open In Colab\"/></a>"
   ]
  },
  {
   "cell_type": "code",
   "execution_count": null,
   "metadata": {
    "id": "4uksdPhwgCO_"
   },
   "outputs": [],
   "source": [
    "## Enable horizontal scroll in shell outputs\n",
    "from IPython.display import display, HTML\n",
    "display(HTML(\"<style>pre { white-space: pre !important; }</style>\"))"
   ]
  },
  {
   "cell_type": "markdown",
   "metadata": {
    "id": "vVIcIuflgCPO"
   },
   "source": [
    "# [InterCom](https://github.com/Tecnologias-multimedia/intercom): a [Real-Time](https://en.wikipedia.org/wiki/Real-time) [Digital Audio](https://en.wikipedia.org/wiki/Digital_audio) [Full-Duplex](https://en.wikipedia.org/wiki/Duplex_(telecommunications)#FULL-DUPLEX) [Transmitter/Receiver](https://en.wikipedia.org/w/index.php?title=Data_transmission&redirect=no)\n",
    "\n",
    "* InterCom is a [full-duplex](https://en.wikipedia.org/wiki/Duplex_(telecommunications)#FULL-DUPLEX) real-time [intercommunicator](https://en.wikipedia.org/wiki/Intercom) for digital ([PCM](https://en.wikipedia.org/wiki/Pulse-code_modulation)) [stereo](https://en.wikipedia.org/wiki/Stereophonic_sound) [audio](https://en.wikipedia.org/wiki/Digital_audio), that uses [the Internet](https://en.wikipedia.org/wiki/Internet).\n",
    "* Is a project developed in the subject [Tecnologías Multimedia](https://tecnologias-multimedia.github.io/) at the [UAL](https://www.ual.es/estudios/grados/presentacion/plandeestudios/asignatura/4015/40154321)."
   ]
  },
  {
   "cell_type": "markdown",
   "metadata": {
    "id": "UXpprDJwgCPU"
   },
   "source": [
    "## Contents\n",
    "\n",
    "1. [`minimal.py`](https://github.com/Tecnologias-multimedia/InterCom/blob/master/src/minimal.py): PCM audio transmission over UDP.\n",
    "2. [`buffer.py`](https://github.com/Tecnologias-multimedia/InterCom/blob/master/src/buffer.py): Hiding the jitter of the network.\n",
    "3. [`BR_control_conservative.py`](https://github.com/Tecnologias-multimedia/InterCom/blob/master/src/BR_control_conservative.py): Bit-rate control through quantization.\n",
    "4. [`stereo_MST_coding_16.py`](https://github.com/Tecnologias-multimedia/InterCom/blob/master/src/stereo_MST_coding_16.py): Removing intra-frame (spatial) redundancy.\n",
    "5. [`temporal_overlapped_DWT_coding.py`](https://github.com/Tecnologias-multimedia/InterCom/blob/master/src/temporal_overlapped_DWT_coding.py): Removing intra-channel (temporal) redundancy.\n",
    "6. [`basic_ToH.py`](https://github.com/Tecnologias-multimedia/InterCom/blob/master/src/basic_ToH.py): Perceptual coding using the threshold of hearing.\n"
   ]
  },
  {
   "cell_type": "markdown",
   "metadata": {
    "id": "-wsf9cwZgCPX"
   },
   "source": [
    "## 1. [`minimal.py`](https://github.com/Tecnologias-multimedia/InterCom/blob/master/src/minimal.py)\n",
    "\n",
    "Default configuration:\n",
    "\n",
    "* Record chunks of audio (1024 samples/chunk) at a [sampling rate](https://en.wikipedia.org/wiki/Sampling_(signal_processing)) of 44100 samples/second.\n",
    "* Send the chunks using [UDP](https://en.wikipedia.org/wiki/User_Datagram_Protocol).\n",
    "\n",
    "        +-------------------------+                    +-------------------------+\n",
    "        | Localhost               |                    | Localhost               |\n",
    "        |  +----------+           |                    |           +----------+  |\n",
    "        |  | InterCom |    +------+    +----------+    +------+    | InterCom |  |\n",
    "        |  | process  |<-->| 4444 |<-->| Internet |<-->| 4444 |<-->| process  |  |\n",
    "        |  +----------+    +------+    +----------+    +------+    +----------+  |\n",
    "        |                         |                    |                         |\n",
    "        +-------------------------+                    +-------------------------+\n"
   ]
  },
  {
   "cell_type": "markdown",
   "metadata": {
    "id": "hArXzgxJgCPZ"
   },
   "source": [
    "<p style=\"padding: 10px; border: 2px solid blue;\"><font color='red'>Before running the next cell, please, check that the mic(rophone) and the speakers gains are not too high!</font><p>"
   ]
  },
  {
   "cell_type": "code",
   "execution_count": null,
   "metadata": {
    "id": "KzgP9OadgCPc"
   },
   "outputs": [],
   "source": [
    "# Run this cell if you have a mic\n",
    "!python ../src/minimal.py --show_stats -t 4"
   ]
  },
  {
   "cell_type": "code",
   "execution_count": null,
   "metadata": {
    "id": "3Y2WRcU2gCPd"
   },
   "outputs": [],
   "source": [
    "# Run this cell if the mic does not work\n",
    "!python ../src/minimal.py --show_stats -t 5 -f ../data/AviadorDro_LaZonaFantasma.oga"
   ]
  },
  {
   "cell_type": "markdown",
   "metadata": {
    "id": "m-FucLH-gCPf"
   },
   "source": [
    "## Internet usage (example)\n",
    "\n",
    "To be tried at home.\n",
    "\n",
    "           Local (NAT-ed) network A      Internet      Local (NAT-ed) network B\n",
    "        =============================== ========== ===============================\n",
    "\n",
    "             Host A            NAT_A                   NAT B           Host B\n",
    "        +-------------+    +----------+            +----------+    +-------------+\n",
    "        | InterCom    |    |          |            |          |    |    InterCom |\n",
    "        | process     |<-->|     4444 |<-- .... -->| 4444     |<-->|     process |\n",
    "        |        4444 |    |          |            |          |    | 4444        |\n",
    "        +-------------+    +----------+            +----------+    +-------------+\n",
    "\n",
    "\n",
    "        Host A> python minimal.py --destination_address NAT_B_public_IP_address\n",
    "        Host B> python minimal.py --destination_address NAT_A_public_IP_address"
   ]
  },
  {
   "cell_type": "markdown",
   "metadata": {
    "id": "wUevqfzkgCPf"
   },
   "source": [
    "## 2. [buffer.py](https://github.com/Tecnologias-multimedia/InterCom/blob/master/src/buffer.py)\n",
    "\n",
    "Hidding the [packet jitter](https://en.wikipedia.org/wiki/Packet_delay_variation):\n",
    "\n",
    "![With and without buffering](https://tecnologias-multimedia.github.io/contents/jitter/graphics/timelines.svg)"
   ]
  },
  {
   "cell_type": "code",
   "execution_count": null,
   "metadata": {},
   "outputs": [],
   "source": [
    "!ping localhost"
   ]
  },
  {
   "cell_type": "markdown",
   "metadata": {
    "id": "pyYat-1-gCPn"
   },
   "source": [
    "### Increase the jitter for the `localhost` link (only Linux)\n",
    "* Using [`tc`](https://man7.org/linux/man-pages/man8/tc.8.html) (Traffic Control).\n",
    "* Example with:\n",
    "    * Average latency = 300 ms (average RTT = 600 ms).\n",
    "    * Average `mdev` = 50 ms.\n",
    "    * [Perarson correlation coefficient](https://en.wikipedia.org/wiki/Pearson_correlation_coefficient) between delays = 0.25 (1.0 means total [correlation](https://en.wikipedia.org/wiki/Correlation) between consecutive simulations of the network delay/loss, 0.0 implies no correlation).\n",
    "    * Statistical distribution of the RTTs = [normal](https://en.wikipedia.org/wiki/Normal_distribution)."
   ]
  },
  {
   "cell_type": "markdown",
   "metadata": {
    "id": "BnxVKJJbgCPn"
   },
   "source": [
    "<p style=\"padding: 10px; border: 2px solid blue;\"><font color='red'>Please, before running the next cells, be sure that sudo does NOT request a password (open a terminal and run, for example, `sudo ls`). If a password is required, add the line `your_username ALL=(ALL) NOPASSWD: ALL` at the end of the `/etc/sudoers` file.</font><p>"
   ]
  },
  {
   "cell_type": "markdown",
   "metadata": {
    "id": "qlpSNdvGgCPo"
   },
   "source": [
    "<p style=\"padding: 10px; border: 2px solid blue;\"><font color='red'>You must be aware that the modification of the latency/throughput of the `localhost` adapter affect also to the refresing time of this notebook! Please, be patient.</font><p>"
   ]
  },
  {
   "cell_type": "code",
   "execution_count": null,
   "metadata": {
    "id": "x4_iakwKgCPo"
   },
   "outputs": [],
   "source": [
    "# Influence in ping\n",
    "avg_latency = 300\n",
    "mean_deviation = 50\n",
    "correlation = 25\n",
    "distribution = \"normal\"\n",
    "\n",
    "# Activate tc rules\n",
    "!sudo tc qdisc show dev lo\n",
    "!sudo tc qdisc add dev lo root handle 1: netem delay {avg_latency}ms {mean_deviation}ms {correlation}% distribution {distribution}\n",
    "\n",
    "# Show rules\n",
    "!sudo tc qdisc show dev lo\n",
    "\n",
    "# See the effect\n",
    "!ping -c 3 localhost\n",
    "\n",
    "# Remove rules\n",
    "!sudo tc qdisc del dev lo root\n",
    "!sudo tc qdisc show dev lo\n",
    "\n",
    "# See the effect\n",
    "!ping -c 3 localhost"
   ]
  },
  {
   "cell_type": "markdown",
   "metadata": {
    "id": "wQuzj1qYgCPp"
   },
   "source": [
    "### Let's listen again to minimal ...\n",
    "... using a high jitter."
   ]
  },
  {
   "cell_type": "code",
   "execution_count": null,
   "metadata": {
    "id": "X3ZgySmOgCPr"
   },
   "outputs": [],
   "source": [
    "# Real machine\n",
    "\n",
    "avg_latency = 300\n",
    "mean_deviation = 50\n",
    "correlation = 25\n",
    "distribution = \"normal\"\n",
    "\n",
    "!sudo tc qdisc show dev lo\n",
    "!sudo tc qdisc add dev lo root handle 1: netem delay {avg_latency}ms {mean_deviation}ms {correlation}% distribution {distribution}\n",
    "!sudo tc qdisc show dev lo\n",
    "\n",
    "#!python ../src/minimal.py --show_stats -t 5  # If you want to listen to yourself\n",
    "!python ../src/minimal.py --show_stats -t 5 -f ../data/AviadorDro_LaZonaFantasma.oga\n",
    "\n",
    "!sudo tc qdisc del dev lo root\n",
    "!sudo tc qdisc show dev lo"
   ]
  },
  {
   "cell_type": "markdown",
   "metadata": {
    "id": "4nwArJ-GgCPr"
   },
   "source": [
    "### Quite bad :-/ The chunks are not arriving with a constant cadence to the receiver"
   ]
  },
  {
   "cell_type": "markdown",
   "metadata": {
    "id": "1mzSWsC2gCPs"
   },
   "source": [
    "### Let's hidden the jitter\n",
    "* The default buffering time in InterCom is 150 ms (see `buffer.py -h`)."
   ]
  },
  {
   "cell_type": "code",
   "execution_count": null,
   "metadata": {
    "id": "urkpJZLWgCPs"
   },
   "outputs": [],
   "source": [
    "avg_latency = 300\n",
    "mean_deviation = 50\n",
    "correlation = 25\n",
    "distribution = \"normal\"\n",
    "\n",
    "!sudo tc qdisc show dev lo\n",
    "!sudo tc qdisc add dev lo root handle 1: netem delay {avg_latency}ms {mean_deviation}ms {correlation}% distribution {distribution}\n",
    "!sudo tc qdisc show dev lo\n",
    "\n",
    "!ping -c 3 localhost\n",
    "\n",
    "#!python ../src/buffer.py --show_stats -t 5\n",
    "!python ../src/buffer.py --show_stats -B 150 -t 5 -f ../data/AviadorDro_LaZonaFantasma.oga\n",
    "\n",
    "# Remove rules\n",
    "!sudo tc qdisc del dev lo root\n",
    "!sudo tc qdisc show dev lo"
   ]
  },
  {
   "cell_type": "markdown",
   "metadata": {
    "id": "VhXfoNx4gCPs"
   },
   "source": [
    "### Much better!"
   ]
  },
  {
   "cell_type": "markdown",
   "metadata": {
    "id": "RFdvDxZogCPt"
   },
   "source": [
    "## 3. [BR_control_conservative.py](https://github.com/Tecnologias-multimedia/InterCom/blob/master/src/BR_control_conservative.py)\n",
    "\n",
    "* Audio data compression with [DEFLATE](https://en.wikipedia.org/wiki/DEFLATE) [entropy codec](https://en.wikipedia.org/wiki/Entropy_coding).\n",
    "* \"Conservative\" [bit-rate](https://en.wikipedia.org/wiki/Bit_rate) control ...\n",
    "\n",
    "  \\begin{equation}\n",
    "    \\left\\{\n",
    "    \\begin{array}{ll}\n",
    "      \\Delta = 2\\Delta & \\quad\\text{if}~L>2, \\\\\n",
    "      \\Delta = \\frac{10}{11}\\Delta & \\quad\\text{always}, \\\\\n",
    "      \\Delta = \\Delta_{\\text{min}} & \\quad\\text{if}~\\Delta < \\Delta_{\\text{min}}.\n",
    "    \\end{array}\n",
    "    \\right.\n",
    "  \\end{equation}\n",
    "\n",
    "* ... through control of the [quantization](https://en.wikipedia.org/wiki/Quantization_(signal_processing)) step size $\\Delta$ ($L$ = number of lost chunks in the last second).\n",
    "\n",
    "![Scalar quantization with deadzone](https://vicente-gonzalez-ruiz.github.io/scalar_quantization/docs/graphics/deadzone.svg)\n"
   ]
  },
  {
   "cell_type": "markdown",
   "metadata": {
    "id": "EDcHNjimgCPx"
   },
   "source": [
    "### Effect of limiting the transmission bit-rate using `tc` (only Linux)\n",
    "Configuration:\n",
    "* Troughput $\\approx$ 200 KBPS.\n",
    "* PCM audio CD quality $\\approx$ 1400 KBPS."
   ]
  },
  {
   "cell_type": "code",
   "execution_count": null,
   "metadata": {
    "id": "t6MhpFVOgCPx",
    "scrolled": true
   },
   "outputs": [],
   "source": [
    "avg_latency = 10\n",
    "mean_deviation = 10\n",
    "correlation = 50\n",
    "distribution = \"normal\"\n",
    "throughput = 300 # KBPS\n",
    "\n",
    "!sudo tc qdisc add dev lo root handle 1: netem delay {avg_latency}ms {mean_deviation}ms {correlation}% distribution {distribution}\n",
    "!sudo tc qdisc add dev lo parent 1:1 handle 10: tbf rate {throughput}kbit burst 64kbit limit 64kbit\n",
    "\n",
    "!python ../src/buffer.py --show_stats -t 5 -f ../data/AviadorDro_LaZonaFantasma.oga\n",
    "\n",
    "!sudo tc qdisc del dev lo parent 1:1 handle 10:\n",
    "!sudo tc qdisc del dev lo root\n",
    "!sudo tc qdisc show dev lo"
   ]
  },
  {
   "cell_type": "markdown",
   "metadata": {},
   "source": [
    "### Effect of limiting the bit-rate, but using a bit-rate control algorithm"
   ]
  },
  {
   "cell_type": "code",
   "execution_count": null,
   "metadata": {
    "id": "umCHVsmigCQA"
   },
   "outputs": [],
   "source": [
    "# (only Linux)\n",
    "\n",
    "avg_latency = 10\n",
    "mean_deviation = 10\n",
    "correlation = 50\n",
    "distribution = \"normal\"\n",
    "throughput = 300 # KBPS\n",
    "\n",
    "!sudo tc qdisc add dev lo root handle 1: netem delay {avg_latency}ms {mean_deviation}ms {correlation}% distribution {distribution}\n",
    "!sudo tc qdisc add dev lo parent 1:1 handle 10: tbf rate {throughput}kbit burst 64kbit limit 64kbit\n",
    "\n",
    "!python ../src/BR_control_conservative.py --show_stats -t 5 -f ../data/AviadorDro_LaZonaFantasma.oga\n",
    "\n",
    "!sudo tc qdisc del dev lo parent 1:1 handle 10:\n",
    "!sudo tc qdisc del dev lo root\n",
    "!sudo tc qdisc show dev lo"
   ]
  },
  {
   "cell_type": "markdown",
   "metadata": {
    "id": "_wocIcSYgCP3"
   },
   "source": [
    "### Let's see the impact of quantization in the quality of the audio"
   ]
  },
  {
   "cell_type": "code",
   "execution_count": null,
   "metadata": {},
   "outputs": [],
   "source": [
    "import matplotlib\n",
    "%matplotlib inline\n",
    "import matplotlib.pyplot as plt\n",
    "import matplotlib.axes as ax\n",
    "import math\n",
    "import numpy as np\n",
    "import sounddevice as sd\n",
    "from scipy import signal"
   ]
  },
  {
   "cell_type": "code",
   "execution_count": null,
   "metadata": {
    "id": "uhiWoOdcgCP4"
   },
   "outputs": [],
   "source": [
    "def quantizer(x, quantization_step):\n",
    "    k = (x / quantization_step).astype(np.int16)\n",
    "    return k\n",
    "\n",
    "def dequantizer(k, quantization_step):\n",
    "    y = quantization_step * k\n",
    "    return y"
   ]
  },
  {
   "cell_type": "code",
   "execution_count": null,
   "metadata": {
    "id": "8UUKq6ZigCP5"
   },
   "outputs": [],
   "source": [
    "def plot(x, y, xlabel='', ylabel='', title=''):\n",
    "    fig = plt.figure()\n",
    "    ax = fig.add_subplot(111)\n",
    "    ax.set_title(title)\n",
    "    ax.grid()\n",
    "    ax.xaxis.set_label_text(xlabel)\n",
    "    ax.yaxis.set_label_text(ylabel)\n",
    "    ax.plot(x, y)\n",
    "    plt.show(block=False)"
   ]
  },
  {
   "cell_type": "code",
   "execution_count": null,
   "metadata": {
    "id": "uSormJ-1gCP5"
   },
   "outputs": [],
   "source": [
    "x = np.linspace(-8, 8, 500) # Input samples\n",
    "k2 = quantizer(x, quantization_step = 2)\n",
    "y2 = dequantizer(k2, quantization_step = 2)\n",
    "k3 = quantizer(x, quantization_step = 3)\n",
    "y3 = dequantizer(k3, quantization_step = 3)"
   ]
  },
  {
   "cell_type": "code",
   "execution_count": null,
   "metadata": {
    "id": "BP7FWfbUgCP6"
   },
   "outputs": [],
   "source": [
    "plot(x, y2, \"Input Sample\", r\"Reconstructed Sample\", r\"Dead-zone Quantizer ($\\Delta={}$)\".format(2))\n",
    "plot(x, y3, \"Input Sample\", r\"Reconstructed Sample\", r\"Dead-zone Quantizer ($\\Delta={}$)\".format(3))"
   ]
  },
  {
   "cell_type": "code",
   "execution_count": null,
   "metadata": {
    "id": "dCbiuBtUgCP6"
   },
   "outputs": [],
   "source": [
    "def q_deq(x, quantization_step):\n",
    "    k = quantizer(x, quantization_step)\n",
    "    y = dequantizer(k, quantization_step)\n",
    "    return k, y"
   ]
  },
  {
   "cell_type": "code",
   "execution_count": null,
   "metadata": {
    "id": "cTpw5hbngCP7"
   },
   "outputs": [],
   "source": [
    "x = np.arange(start = -8, stop = 9, step = 1)\n",
    "k, y = q_deq(x, quantization_step = 3)\n",
    "print(\"    Original samples =\", x)\n",
    "print(\"Quantization indexes =\", k)\n",
    "print(\" Dequantized samples =\", y)"
   ]
  },
  {
   "cell_type": "code",
   "execution_count": null,
   "metadata": {
    "id": "tqCz7aGSgCP8"
   },
   "outputs": [],
   "source": [
    "# Run this cell if you have a mic ... and want to use your own audio\n",
    "sampling_rate = 44100\n",
    "duration = 5.0  # seconds\n",
    "x = sd.rec(int(duration * sampling_rate), samplerate=sampling_rate, channels=1, dtype=np.int16)\n",
    "print(\"Speak!\")\n",
    "while sd.wait():\n",
    "    pass\n",
    "print(\"done\")"
   ]
  },
  {
   "cell_type": "code",
   "execution_count": null,
   "metadata": {
    "id": "EWgR9bOngCP8"
   },
   "outputs": [],
   "source": [
    "# Run this cell if you don't have a mic\n",
    "import soundfile\n",
    "x, sampling_rate = soundfile.read(\"../data/AviadorDro_LaZonaFantasma.oga\")\n",
    "x = x[0:65536*2] * 32768\n",
    "x = x.astype(np.int16)"
   ]
  },
  {
   "cell_type": "code",
   "execution_count": null,
   "metadata": {
    "id": "ykdV8ZvZgCP9"
   },
   "outputs": [],
   "source": [
    "sd.play(x)\n",
    "plot(np.linspace(0, len(x)-1, len(x)), x, \"Sample\", \"Amplitude\", \"Original Signal\")"
   ]
  },
  {
   "cell_type": "code",
   "execution_count": null,
   "metadata": {
    "id": "Wslh-vOugCP9"
   },
   "outputs": [],
   "source": [
    "# Effect of quantization\n",
    "quantization_step = 2048\n",
    "k, y = q_deq(x, quantization_step)\n",
    "sd.play(y)\n",
    "plot(np.linspace(0, len(y)-1, len(y)), y, \"Sample\", \"Amplitude\", r\"Quantized Signal ($\\Delta={}$)\".format(quantization_step))"
   ]
  },
  {
   "cell_type": "code",
   "execution_count": null,
   "metadata": {
    "id": "fseAYEAPgCP9"
   },
   "outputs": [],
   "source": [
    "# RD curve\n",
    "\n",
    "def average_energy(x):\n",
    "    return np.sum(x.astype(np.double)*x.astype(np.double))/len(x)\n",
    "\n",
    "def RMSE(x, y):\n",
    "    error_signal = x - y\n",
    "    return math.sqrt(average_energy(error_signal))\n",
    "\n",
    "def entropy_in_bits_per_symbol(sequence_of_symbols):\n",
    "    value, counts = np.unique(sequence_of_symbols, return_counts = True)\n",
    "    probs = counts / len(sequence_of_symbols)\n",
    "    n_classes = np.count_nonzero(probs)\n",
    "\n",
    "    if n_classes <= 1:\n",
    "        return 0\n",
    "\n",
    "    entropy = 0.\n",
    "    for i in probs:\n",
    "        entropy -= i * math.log(i, 2)\n",
    "\n",
    "    return entropy\n",
    "\n",
    "def RD_curve(x):\n",
    "    points = []\n",
    "    for q_step in range(128, 4096, 128):\n",
    "        k, y = q_deq(x, q_step)\n",
    "        #print(np.unique(k))\n",
    "        rate = entropy_in_bits_per_symbol(k)\n",
    "        distortion = RMSE(x, y)\n",
    "        points.append((rate, distortion))\n",
    "    return points"
   ]
  },
  {
   "cell_type": "code",
   "execution_count": null,
   "metadata": {
    "id": "5tpXhI69gCP-"
   },
   "outputs": [],
   "source": [
    "RD_points = RD_curve(x)"
   ]
  },
  {
   "cell_type": "code",
   "execution_count": null,
   "metadata": {
    "id": "Ih0wHKfagCP_"
   },
   "outputs": [],
   "source": [
    "plt.title(\"RD Tradeoff\")\n",
    "plt.xlabel(\"R (Estimated Bits per Sample) [Entropy]\")\n",
    "plt.ylabel(\"D (Root Mean Square Error)\")\n",
    "plt.scatter(*zip(*RD_points), s=2, c='b', marker=\"o\")\n",
    "plt.show()"
   ]
  },
  {
   "cell_type": "markdown",
   "metadata": {},
   "source": [
    "## 4. [`stereo_MST_coding_16.py`](https://github.com/Tecnologias-multimedia/InterCom/blob/master/src/stereo_MST_coding_16.py)\n",
    "* Removes intra-frame redundancy using the [MST (Mid/Side Transform)](https://en.wikipedia.org/wiki/Joint_encoding#M/S_stereo_coding).\n",
    "* Forward transform:\n",
    "\\begin{equation}\n",
    "  \\mathbf{w} = \\mathbf{K}\\mathbf{x} = \\begin{bmatrix} 1 & 1 \\\\ 1 & -1 \\end{bmatrix}\\mathbf{x},\n",
    "\\end{equation}\n",
    "* Inverse transform:\n",
    "\\begin{equation}\n",
    "  \\mathbf{x} = \\mathbf{K}^{-1}\\mathbf{w} = \\frac{1}{2}\\mathbf{K}^{\\text T}\\mathbf{w} = \\frac{1}{2}\\mathbf{K}\\mathbf{w} = \\frac{1}{2}\\begin{bmatrix} 1 & 1 \\\\ 1 & -1 \\end{bmatrix}\\mathbf{w}.\n",
    "\\end{equation}\n",
    "* $\\mathbf{x}$ a frame, $\\mathbf{w}_0$ the low-frequency coefficient (the average), and $\\mathbf{w}_1$ the high-frequency coefficient (the difference)."
   ]
  },
  {
   "cell_type": "code",
   "execution_count": null,
   "metadata": {
    "id": "Pf8zfTG7gCQB"
   },
   "outputs": [],
   "source": [
    "def plot(y, xlabel='', ylabel='', title=''):\n",
    "    fig = plt.figure()\n",
    "    ax = fig.add_subplot(111)\n",
    "    ax.set_title(title)\n",
    "    ax.grid()\n",
    "    ax.xaxis.set_label_text(xlabel)\n",
    "    ax.yaxis.set_label_text(ylabel)\n",
    "    x = np.linspace(0, len(y)-1, len(y))\n",
    "    ax.plot(x, y, '.', markersize=1)\n",
    "    plt.show(block=False)"
   ]
  },
  {
   "cell_type": "code",
   "execution_count": null,
   "metadata": {
    "id": "xSBA5gkXgCQB"
   },
   "outputs": [],
   "source": [
    "# Run this cell if you have a mic\n",
    "fs = 44100      # Sampling frequency\n",
    "duration = 5.0  # seconds\n",
    "x = sd.rec(int(duration * fs), samplerate=fs, channels=2, dtype=np.int16)\n",
    "print(\"Say something!\")\n",
    "while sd.wait():\n",
    "    pass\n",
    "print(\"done\")"
   ]
  },
  {
   "cell_type": "code",
   "execution_count": null,
   "metadata": {
    "id": "slUXqxCGgCQC"
   },
   "outputs": [],
   "source": [
    "# Run this cell if you don't have a mic\n",
    "import soundfile\n",
    "x, sampling_rate = soundfile.read(\"../data/AviadorDro_LaZonaFantasma.oga\")\n",
    "x = x[0:65536*2] * 32768\n",
    "x = x.astype(np.int16)"
   ]
  },
  {
   "cell_type": "code",
   "execution_count": null,
   "metadata": {
    "id": "eUcaHVAAgCQD"
   },
   "outputs": [],
   "source": [
    "# Original\n",
    "plot(x, \"Sample\", \"Amplitude\", \"Audio Signal\")\n",
    "#x = x[65536:]\n",
    "x = x[:65536] # The Dyadic DWT works better when the number of samples is a power of 2\n",
    "plot(x, \"Sample\", \"Amplitude\", \"Audio Signal (zoom)\")\n",
    "sd.play(x)"
   ]
  },
  {
   "cell_type": "code",
   "execution_count": null,
   "metadata": {
    "id": "MAANZXXKgCQF"
   },
   "outputs": [],
   "source": [
    "def MST_analyze(x):\n",
    "    w = np.empty_like(x, dtype=np.int32)\n",
    "    w[:, 0] = x[:, 0].astype(np.int32) + x[:, 1] # L(ow frequency subband)\n",
    "    w[:, 1] = x[:, 0].astype(np.int32) - x[:, 1] # H(igh frequency subband)\n",
    "    return w\n",
    "\n",
    "def MST_synthesize(w):\n",
    "    x = np.empty_like(w, dtype=np.int16)\n",
    "    x[:, 0] = (w[:, 0] + w[:, 1])/2 # L(ow frequency subband)\n",
    "    x[:, 1] = (w[:, 0] - w[:, 1])/2 # H(igh frequency subband)\n",
    "    return x"
   ]
  },
  {
   "cell_type": "code",
   "execution_count": null,
   "metadata": {
    "id": "LzO29KRSgCQF"
   },
   "outputs": [],
   "source": [
    "w = MST_analyze(x)"
   ]
  },
  {
   "cell_type": "code",
   "execution_count": null,
   "metadata": {
    "id": "pzfxOmUvgCQG"
   },
   "outputs": [],
   "source": [
    "plot(w[:, 0], \"Sample\", \"Amplitude\", \"Mid Subband\")\n",
    "sd.play(w[:, 0].astype(np.int16))"
   ]
  },
  {
   "cell_type": "code",
   "execution_count": null,
   "metadata": {
    "id": "CKFSVX2kgCQG"
   },
   "outputs": [],
   "source": [
    "plot(w[:, 1], \"Sample\", \"Amplitude\", \"Side Subband\")\n",
    "sd.play(w[:, 1].astype(np.int16))"
   ]
  },
  {
   "cell_type": "markdown",
   "metadata": {},
   "source": [
    "### Frequency response of the filters"
   ]
  },
  {
   "cell_type": "code",
   "execution_count": null,
   "metadata": {
    "id": "gn5fM65wgCQH"
   },
   "outputs": [],
   "source": [
    "K1 = np.array([1.0, 1.0])\n",
    "w1, h1 = signal.freqz(K1, fs=44100)\n",
    "K2 = np.array([1.0, -1.0])\n",
    "w2, h2 = signal.freqz(K2, fs=44100)"
   ]
  },
  {
   "cell_type": "code",
   "execution_count": null,
   "metadata": {
    "id": "P7WeABB2gCQH"
   },
   "outputs": [],
   "source": [
    "plt.subplot(211)\n",
    "plt.title('Mid/Side analysis filters transfer functions')\n",
    "plt.plot(w1, 20 * np.log10(abs(h1)), 'b')\n",
    "plt.ylabel('Amplitude [dB]')\n",
    "plt.subplot(212)\n",
    "plt.plot(w2, 20 * np.log10(abs(h2)), 'b')\n",
    "plt.xlabel('Frequency (Hz)')\n",
    "plt.ylabel('Amplitude [dB]')\n",
    "plt.show()"
   ]
  },
  {
   "cell_type": "markdown",
   "metadata": {
    "id": "hLZEG70jgCQI"
   },
   "source": [
    "* Notice that the frequency response of the filters exhibit symmetry (one is the mirror of the other)."
   ]
  },
  {
   "cell_type": "markdown",
   "metadata": {
    "id": "tfNPizWngCQK"
   },
   "source": [
    "### Effect of quantization of the MST subbands"
   ]
  },
  {
   "cell_type": "code",
   "execution_count": null,
   "metadata": {
    "id": "pHrn3rqSgCQK"
   },
   "outputs": [],
   "source": [
    "def quantizer(x, quantization_step):\n",
    "    '''Deadzone quantization.'''\n",
    "    k = (x / quantization_step).astype(np.int32)\n",
    "    return k\n",
    "\n",
    "def q_RD_curve(data):\n",
    "    '''RD curve in the space domain.'''\n",
    "    RD_points = []\n",
    "    for q_step in range(16, 1024, 32):\n",
    "        k, y = q_deq(data, q_step)\n",
    "        rate = entropy_in_bits_per_symbol(k[:, 0]) + entropy_in_bits_per_symbol(k[:, 1])\n",
    "        distortion = RMSE(data, y)\n",
    "        RD_points.append((rate, distortion))\n",
    "    return RD_points\n",
    "\n",
    "def MST_RD_curve(data):\n",
    "    '''RD curve in the MST domain.'''\n",
    "    RD_points = []\n",
    "    for q_step in range(16, 1024, 32):\n",
    "        analyzed_data = MST_analyze(data)\n",
    "        k, y = q_deq(analyzed_data, q_step)\n",
    "        rate = entropy_in_bits_per_symbol(k[:, 0]) + entropy_in_bits_per_symbol(k[:, 1])\n",
    "        reconstructed_data = MST_synthesize(y)\n",
    "        distortion = RMSE(data, reconstructed_data)\n",
    "        RD_points.append((rate, distortion))\n",
    "    return RD_points"
   ]
  },
  {
   "cell_type": "code",
   "execution_count": null,
   "metadata": {
    "id": "u987KomigCQL"
   },
   "outputs": [],
   "source": [
    "q_RD_points = q_RD_curve(x)\n",
    "MST_RD_points = MST_RD_curve(x)"
   ]
  },
  {
   "cell_type": "code",
   "execution_count": null,
   "metadata": {
    "id": "-6vQMLSjgCQL"
   },
   "outputs": [],
   "source": [
    "plt.title(\"RD Tradeoff\")\n",
    "plt.xlabel(\"Estimated Bits per Sample [Entropy]\")\n",
    "plt.ylabel(\"RMSE\")\n",
    "plt.plot(*zip(*MST_RD_points), c='b', marker=\".\", label='Quantizing MST subbands')\n",
    "plt.plot(*zip(*q_RD_points), c='r', marker=\".\", label='Quantizing original audio')\n",
    "plt.legend(loc='upper right')\n",
    "plt.show()"
   ]
  },
  {
   "cell_type": "markdown",
   "metadata": {
    "id": "Stwp7Y1JgCQM"
   },
   "source": [
    "### Perceptual impact of the MST"
   ]
  },
  {
   "cell_type": "code",
   "execution_count": null,
   "metadata": {
    "id": "CE4SlS1qgCQM"
   },
   "outputs": [],
   "source": [
    "# Real machine (no mic is required)\n",
    "!python ../src/stereo_MST_coding_16.py --show_stats -t 10 -f ../data/AviadorDro_LaZonaFantasma.oga"
   ]
  },
  {
   "cell_type": "code",
   "execution_count": null,
   "metadata": {},
   "outputs": [],
   "source": [
    "!python ../src/BR_control_conservative.py --show_stats -t 10 -f ../data/AviadorDro_LaZonaFantasma.oga"
   ]
  },
  {
   "cell_type": "markdown",
   "metadata": {},
   "source": [
    "## 5. [`temporal_overlapped_DWT_coding.py`](https://github.com/Tecnologias-multimedia/InterCom/blob/master/src/temporal_overlapped_DWT_coding.py)\n",
    "* [DWT](https://en.wikipedia.org/wiki/Discrete_wavelet_transform) removes temporal redundancy (the MST coefficients of a subband are correlated in time).\n",
    "* Dyadic frequency decomposition using perfect reconstruction [filter banks](https://en.wikipedia.org/wiki/Filter_bank):\n",
    "![DWT](https://tecnologias-multimedia.github.io/contents/transform_coding/graphics/cascade.svg)\n",
    "* Example using [lifting](https://en.wikipedia.org/wiki/Lifting_scheme) ([Biorthogonal (2,2) of Cohen-Daubechies-\n",
    "Feauveau](http://www.mat.unimi.it/users/naldi/lifting.pdf)):\n",
    "\n",
    "\\begin{equation}\n",
    "  {\\mathbf h}^l_i = {\\mathbf l}^{l-1}_{2i+1} - \\frac{1}{2}({\\mathbf l}^{l-1}_{2i} + {\\mathbf l}^{l-1}_{2i+2})\n",
    "\\end{equation}\n",
    "\\begin{equation}\n",
    "  {\\mathbf l}^l_i = {\\mathbf l}^{l-1}_{2i} + \\frac{1}{4}({\\mathbf h}^l_{i-1} + {\\mathbf h}^l_i),\n",
    "\\end{equation}"
   ]
  },
  {
   "cell_type": "markdown",
   "metadata": {
    "id": "chtACEy9gCQR"
   },
   "source": [
    "### Dyadic frequency decomposition:"
   ]
  },
  {
   "cell_type": "code",
   "execution_count": null,
   "metadata": {
    "id": "7VjnFUYmgCQR"
   },
   "outputs": [],
   "source": [
    "def average_complex_energy(x):\n",
    "    return np.sum(x.real.astype(np.double)*x.real.astype(np.double) +\n",
    "                  x.imag.astype(np.double)*x.imag.astype(np.double))/len(x)"
   ]
  },
  {
   "cell_type": "code",
   "execution_count": null,
   "metadata": {
    "id": "7DxGmgq6gCQR"
   },
   "outputs": [],
   "source": [
    "import pywt # pip install pywavelets\n",
    "from IPython.display import Math\n",
    "\n",
    "%matplotlib inline\n",
    "\n",
    "#filters_name = \"haar\"\n",
    "#filters_name = \"db5\"\n",
    "#filters_name = \"db7\"\n",
    "#filters_name = \"db11\"\n",
    "filters_name = \"db20\"\n",
    "#filters_name = \"bior3.5\"\n",
    "\n",
    "wavelet = pywt.Wavelet(filters_name)\n",
    "\n",
    "N_levels = 4\n",
    "\n",
    "for l in range(N_levels):\n",
    "    filters = wavelet.wavefun(level = (l+1))[:-1]\n",
    "    w0, h0 = signal.freqz(filters[0], fs=44100)\n",
    "    w1, h1 = signal.freqz(filters[1], fs=44100)\n",
    "    plt.plot(w1, abs(h1), label=r\"$\\mathbf{h}\" + rf\"^{l+1}$\")\n",
    "    #display(Math(\"\\\\text{Average energy of}~\" + r\"\\mathbf{h}\" + f\"^{l+1}\" + f\" = {average_complex_energy(h1)}\"))\n",
    "plt.plot(w0, abs(h0), label=r\"$\\mathbf{l}\" + rf\"^{l+1}$\")\n",
    "#display(Math(\"\\\\text{Average energy of}~\" + r\"\\mathbf{l}\" + f\"^{l+1}\" + f\" = {average_complex_energy(h0)}\"))\n",
    "plt.legend(loc=\"best\")\n",
    "plt.xlabel(\"Frequency (Hz)\")\n",
    "plt.ylabel(\"Gain\")\n",
    "plt.show()"
   ]
  },
  {
   "cell_type": "markdown",
   "metadata": {
    "id": "AXS0Yb-tgCQV"
   },
   "source": [
    "### DWT in action (only Linux)\n",
    "Go to the shell and run (inside of the `test` folder):\n",
    "```\n",
    "python sounddevice/plot_input_stereo.py &\n",
    "python transforms/rfft_hamming.py &\n",
    "python transforms/dwt5.py &\n",
    "python sounddevice/play_sine.py 440\n",
    "```"
   ]
  },
  {
   "cell_type": "markdown",
   "metadata": {
    "id": "2xsuX7WFgCQW"
   },
   "source": [
    "### DWT RD performance"
   ]
  },
  {
   "cell_type": "code",
   "execution_count": null,
   "metadata": {
    "id": "--fIB9KhgCQY"
   },
   "outputs": [],
   "source": [
    "def quantizer(x, quantization_step):\n",
    "    k = (x / quantization_step).astype(np.int32)\n",
    "    return k\n",
    "\n",
    "def dequantizer(k, quantization_step):\n",
    "    y = quantization_step * k\n",
    "    return y\n",
    "\n",
    "def DWT_analyze(x, levels):\n",
    "    coefs = np.empty(x.shape, dtype=np.int32)\n",
    "    decomposition_0 = pywt.wavedec(x[:, 0], wavelet=wavelet, level=levels, mode=\"per\")\n",
    "    decomposition_1 = pywt.wavedec(x[:, 1], wavelet=wavelet, level=levels, mode=\"per\")\n",
    "    coefs_0, slices = pywt.coeffs_to_array(decomposition_0)\n",
    "    coefs_1, slices = pywt.coeffs_to_array(decomposition_1)\n",
    "    coefs[:, 0] = np.rint(coefs_0).astype(np.int32)\n",
    "    coefs[:, 1] = np.rint(coefs_1).astype(np.int32)\n",
    "    return coefs, slices\n",
    "\n",
    "def DWT_synthesize(coefs, slices):\n",
    "    samples = np.empty(coefs.shape, dtype=np.int32)\n",
    "    decomposition_0 = pywt.array_to_coeffs(coefs[:, 0], slices, output_format=\"wavedec\")\n",
    "    decomposition_1 = pywt.array_to_coeffs(coefs[:, 1], slices, output_format=\"wavedec\")\n",
    "    samples[:, 0] = np.rint(pywt.waverec(decomposition_0, wavelet=wavelet, mode=\"per\")).astype(np.int32)\n",
    "    samples[:, 1] = np.rint(pywt.waverec(decomposition_1, wavelet=wavelet, mode=\"per\")).astype(np.int32)\n",
    "    return samples\n",
    "\n",
    "def DWT_RD_curve(data, levels):\n",
    "    RD_points = []\n",
    "    for q_step in range(16, 1024, 32):\n",
    "        MST_coefs = MST_analyze(data)\n",
    "        DWT_coefs, slices = DWT_analyze(MST_coefs, levels)\n",
    "        k, y = q_deq(DWT_coefs, q_step)\n",
    "        rate = entropy_in_bits_per_symbol(k[:, 0]) + entropy_in_bits_per_symbol(k[:, 1])\n",
    "        MST_coefs = DWT_synthesize(y, slices)\n",
    "        reconstructed_data = MST_synthesize(MST_coefs)\n",
    "        distortion = RMSE(data, reconstructed_data)\n",
    "        RD_points.append((rate, distortion))\n",
    "    return RD_points"
   ]
  },
  {
   "cell_type": "code",
   "execution_count": null,
   "metadata": {
    "id": "f8lie8upgCQY"
   },
   "outputs": [],
   "source": [
    "x = x[:65536]\n",
    "plot(x, \"Sample\", \"Amplitude\", \"\")\n",
    "sd.play(x.astype(np.int16))"
   ]
  },
  {
   "cell_type": "code",
   "execution_count": null,
   "metadata": {
    "id": "TEutZtGagCQY",
    "scrolled": true
   },
   "outputs": [],
   "source": [
    "q_RD_points = q_RD_curve(x)\n",
    "MST_RD_points = MST_RD_curve(x)\n",
    "DWT_RD_points = DWT_RD_curve(x, levels = N_levels)"
   ]
  },
  {
   "cell_type": "code",
   "execution_count": null,
   "metadata": {
    "id": "0eGEuD24gCQZ"
   },
   "outputs": [],
   "source": [
    "plt.title(\"RD Tradeoff\")\n",
    "plt.xlabel(\"Estimated Bits per Sample\")\n",
    "plt.ylabel(\"RMSE\")\n",
    "plt.plot(*zip(*q_RD_points), c='r', marker=\".\", label='Quantization')\n",
    "plt.plot(*zip(*MST_RD_points), c='b', marker=\".\", label='Quantization after MST')\n",
    "plt.plot(*zip(*DWT_RD_points), c='g', marker=\".\", label=f'Quantization after MST+DWT(levels={N_levels})')\n",
    "plt.legend(loc='upper right')\n",
    "plt.show()"
   ]
  },
  {
   "cell_type": "markdown",
   "metadata": {
    "id": "tsMt5HyJgCQc"
   },
   "source": [
    "### Perceptual gain of the temporal decorrelation"
   ]
  },
  {
   "cell_type": "code",
   "execution_count": null,
   "metadata": {
    "id": "QybccqtogCQc"
   },
   "outputs": [],
   "source": [
    "!python ../src/temporal_overlapped_DWT_coding.py --show_stats -t 10 -f ../data/AviadorDro_LaZonaFantasma.oga"
   ]
  },
  {
   "cell_type": "markdown",
   "metadata": {
    "id": "GETCVRiegCQd"
   },
   "source": [
    "## 6. [`basic_ToH.py`](https://github.com/Tecnologias-multimedia/InterCom/blob/master/src/basic_ToH.py)\n",
    "[Perceptual](https://en.wikipedia.org/wiki/Psychoacoustics) coding using the [threshold of hearing](https://en.wikipedia.org/wiki/Absolute_threshold_of_hearing)."
   ]
  },
  {
   "cell_type": "markdown",
   "metadata": {
    "id": "MzAckhyWgCQd"
   },
   "source": [
    "### Frequency resolution provided by the (Dyadic) DWT vs the [Threshold of (Human) Hearing (ToH)](https://tecnologias-multimedia.github.io/study_guide/threshold_of_hearing/)"
   ]
  },
  {
   "cell_type": "code",
   "execution_count": null,
   "metadata": {
    "id": "Kr9Hq0hOgCQd"
   },
   "outputs": [],
   "source": [
    "import matplotlib.pyplot as plt\n",
    "import numpy as np\n",
    "import pywt\n",
    "from scipy import signal\n",
    "\n",
    "x = np.linspace(10,22050,22050)\n",
    "y = 3.64*(x/1000)**(-0.8) - 6.5*np.exp((-0.6)*(x/1000-3.3)**2) + 1E-3*(x/1000)**4\n",
    "plt.xscale(\"log\")\n",
    "plt.yscale(\"linear\")\n",
    "plt.title(\"ToH / DWT Frequency Decomposition\")\n",
    "plt.xlabel(\"Frequency (Hertz)\")\n",
    "plt.ylabel(\"Sound Preasure Level [dB]\")\n",
    "plt.plot(x, y, c='r', label=\"ToH\")\n",
    "\n",
    "wavelet = pywt.Wavelet(\"db5\")\n",
    "\n",
    "N_levels = 6\n",
    "\n",
    "for l in range(N_levels):\n",
    "    filters = wavelet.wavefun(level = (l+1))[:-1]\n",
    "    w0, h0 = signal.freqz(filters[0], fs=44100)\n",
    "    w1, h1 = signal.freqz(filters[1], fs=44100)\n",
    "    plt.plot(w1, 100*abs(h1)/2**l, label=\"$\\\\mathbf{h}$\" + f\"$^{l+1}$\", linestyle=\"dotted\")\n",
    "plt.plot(w0, 100*abs(h0)/2**(N_levels-1), label=\"$\\\\mathbf{l}$\" + f\"$^{l+1}$\", linestyle=\"dotted\")\n",
    "\n",
    "plt.legend(loc='best')\n",
    "\n",
    "plt.show()"
   ]
  },
  {
   "cell_type": "markdown",
   "metadata": {
    "id": "INOj-yE_gCQe"
   },
   "source": [
    "* The QSSs are adapted to the ToH in each DWT subband."
   ]
  },
  {
   "cell_type": "markdown",
   "metadata": {
    "id": "GtJMF6IagCQh"
   },
   "source": [
    "### Effect of using the ToH"
   ]
  },
  {
   "cell_type": "markdown",
   "metadata": {},
   "source": [
    "#### Without using the ToH"
   ]
  },
  {
   "cell_type": "code",
   "execution_count": null,
   "metadata": {},
   "outputs": [],
   "source": [
    "!python ../src/temporal_overlapped_DWT_coding.py -q 3000 --show_stats -t 10 -f ../data/AviadorDro_LaZonaFantasma.oga"
   ]
  },
  {
   "cell_type": "code",
   "execution_count": null,
   "metadata": {
    "id": "VmkoD7u6gCQm"
   },
   "outputs": [],
   "source": [
    "!python ../src/basic_ToH.py -q 1024 --show_stats -t 10 -f ../data/AviadorDro_LaZonaFantasma.oga"
   ]
  },
  {
   "cell_type": "markdown",
   "metadata": {
    "id": "mSGdr5G9gCQn"
   },
   "source": [
    "## 7. Currently working on ...\n",
    "1. [Increase the number of subbands to map better the ToH](https://tecnologias-multimedia.github.io/contents/threshold_of_hearing/).\n",
    "2. [Consider the simultaneous masking effect](https://tecnologias-multimedia.github.io/contents/simultaneous_masking/).\n",
    "3. [Echo cancellation](https://tecnologias-multimedia.github.io/contents/echo_cancellation/).\n",
    "4. ... and some day ... [Video](https://en.wikipedia.org/wiki/Video)!"
   ]
  },
  {
   "cell_type": "markdown",
   "metadata": {
    "id": "apMZhPEwgCQo"
   },
   "source": [
    "## Appendix"
   ]
  },
  {
   "cell_type": "markdown",
   "metadata": {
    "id": "VVuGhnmpgCQp"
   },
   "source": [
    "### Resumen\n",
    "\n",
    "La transmisión en tiempo real de señales sobre redes de datos no dedicadas plantea problemas de latencia y de rendimiento. En este seminario se analizan las principales técnicas usadas para mitigar dichos problemas, y se evalúa su efectividad en InterCom (https://github.com/Tecnologias-multimedia/InterCom), una aplicación que permite la intercomunicación (mediante señales de audio) entre 2 usuarios conectados a Internet. Más información en https://github.com/Tecnologias-multimedia/InterCom/blob/master/docs/2-hours_seminar.ipynb.\n",
    "\n",
    "The real-time transmission of signals over non-dedicated data networks generates latency and performance issues. In this seminar, the main techniques used to mitigate these problems are analyzed, and their effectiveness is evaluated in InterCom (https://github.com/Tecnologias-multimedia/InterCom), an application that allows intercommunication (through audio signals) between 2 users connected to the Internet. More information at https://github.com/Tecnologias-multimedia/InterCom/blob/master/docs/2-hours_seminar.ipynb."
   ]
  }
 ],
 "metadata": {
  "colab": {
   "include_colab_link": true,
   "provenance": []
  },
  "kernelspec": {
   "display_name": "Python 3 (ipykernel)",
   "language": "python",
   "name": "python3"
  },
  "language_info": {
   "codemirror_mode": {
    "name": "ipython",
    "version": 3
   },
   "file_extension": ".py",
   "mimetype": "text/x-python",
   "name": "python",
   "nbconvert_exporter": "python",
   "pygments_lexer": "ipython3",
   "version": "3.12.2"
  }
 },
 "nbformat": 4,
 "nbformat_minor": 4
}
