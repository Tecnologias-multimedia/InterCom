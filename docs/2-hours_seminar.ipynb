{
 "cells": [
  {
   "cell_type": "code",
   "execution_count": null,
   "metadata": {},
   "outputs": [],
   "source": [
    "## Enable horizontal scroll in shell outputs (optional)\n",
    "from IPython.display import display, HTML\n",
    "display(HTML(\"<style>pre { white-space: pre !important; }</style>\"))"
   ]
  },
  {
   "cell_type": "markdown",
   "metadata": {},
   "source": [
    "# [InterCom](https://github.com/Tecnologias-multimedia/intercom): a [Real-Time](https://en.wikipedia.org/wiki/Real-time) [Digital Audio](https://en.wikipedia.org/wiki/Digital_audio) [Full-Duplex](https://en.wikipedia.org/wiki/Duplex_(telecommunications)#FULL-DUPLEX) [Transmitter/Receiver](https://en.wikipedia.org/w/index.php?title=Data_transmission&redirect=no)"
   ]
  },
  {
   "cell_type": "markdown",
   "metadata": {},
   "source": [
    "## Contents\n",
    "\n",
    "1. What is InterCom?\n",
    "2. Hiding the jitter.\n",
    "3. Compression with DEFLATE.\n",
    "4. A simple bit-rate control through quantization.\n",
    "5. Removing intra-frame redundancy.\n",
    "6. Removing intra-channel redundancy.\n",
    "7. Perceptual coding.\n",
    "8. Next improvements."
   ]
  },
  {
   "cell_type": "markdown",
   "metadata": {},
   "source": [
    "## 1. What is InterCom?\n",
    "\n",
    "* InterCom is a [full-duplex](https://en.wikipedia.org/wiki/Duplex_(telecommunications)#FULL-DUPLEX) real-time [intercommunicator](https://en.wikipedia.org/wiki/Intercom) for digital ([PCM](https://en.wikipedia.org/wiki/Pulse-code_modulation)) audio, that uses the Internet."
   ]
  },
  {
   "cell_type": "markdown",
   "metadata": {},
   "source": [
    "### A [minimal](https://tecnologias-multimedia.github.io/study_guide/minimal/) implementation\n",
    "\n",
    "* In [`minimal.py`](https://github.com/Tecnologias-multimedia/InterCom/blob/master/src/minimal.py), the sender (of audio) splits a sequence of [frames](https://python-sounddevice.readthedocs.io/en/0.3.12/api.html) (two [stereo](https://en.wikipedia.org/wiki/Stereophonic_sound) [samples](https://en.wikipedia.org/wiki/Sampling_(signal_processing))) in chunks (of constant length) and each one is transmitted in an [UDP](https://en.wikipedia.org/wiki/User_Datagram_Protocol) packet. At the receiver, the sequence of frames is reconstructed and played.\n",
    "\n",
    "        +-------------------------+                    +-------------------------+\n",
    "        | Host A                  |                    | Host B                  |\n",
    "        |  +----------+           |                    |           +----------+  |\n",
    "        |  | InterCom |    +------+    +----------+    +------+    | InterCom |  |\n",
    "        |  | process  |<-->| 4444 |<-->| Internet |<-->| 4444 |<-->| process  |  |\n",
    "        |  +----------+    +------+    +----------+    +------+    +----------+  |\n",
    "        |                         |                    |                         |\n",
    "        +-------------------------+                    +-------------------------+\n",
    "\n",
    "* By default, InterCom sends the audio from the port 4444 to the port 4444 in the `localhost` (Host A == Host B), resulting in that we play the audio that we have recorded, and obviously we don't need any interconexion network. If you want to trace the sent (and received InterCom's chunks), in a terminal run:\n",
    "\n",
    "    `sudo tcpdump -i lo | grep 4444`"
   ]
  },
  {
   "cell_type": "markdown",
   "metadata": {},
   "source": [
    "<p style=\"padding: 10px; border: 2px solid blue;\"><font color='red'>Before running the next cell, please, check the mic and the speakers gains!</font><p>"
   ]
  },
  {
   "cell_type": "code",
   "execution_count": null,
   "metadata": {},
   "outputs": [],
   "source": [
    "# Run this cell if you are using a real machine, which mic\n",
    "!python ~/InterCom/src/minimal.py --show_stats -t 5"
   ]
  },
  {
   "cell_type": "code",
   "execution_count": null,
   "metadata": {},
   "outputs": [],
   "source": [
    "# Run this cell if you are using a real machine, but the mic does not work\n",
    "!python ~/InterCom/src/minimal.py --show_stats -t 5 -f ~/InterCom/data/AviadorDro_LaZonaFantasma.oga"
   ]
  },
  {
   "cell_type": "code",
   "execution_count": null,
   "metadata": {
    "scrolled": true
   },
   "outputs": [],
   "source": [
    "# Run this cell if you are using a virtual machine or very old real one\n",
    "!python ~/InterCom/src/minimal.py --show_stats -t 5 -s 8000 -f ~/InterCom/data/AviadorDro_LaZonaFantasma_8000Hz.oga --frames_per_chunk 256"
   ]
  },
  {
   "cell_type": "markdown",
   "metadata": {},
   "source": [
    "## 2. [Hiding](https://tecnologias-multimedia.github.io/study_guide/latency/) the [packet jitter](https://en.wikipedia.org/wiki/Packet_delay_variation)\n",
    "\n",
    "* The communication network (the Internet) usually delays a random amount of time the transmission of the chunks, i.e., generates a jitter (packet delay variation during the transmission of a sequence of packets).\n",
    "\n",
    "* This jitter can be hiden through the [buffering](https://tecnologias-multimedia.github.io/study_guide/buffering/) (delaying) of the received chunks, before playing them (left: the problem, right: a solution):\n",
    "\n",
    "![With and without buffering](https://tecnologias-multimedia.github.io/study_guide/latency/graphics/timelines.svg)\n",
    "<!-- ![With and without buffering](/home/vruiz/timelines.svg)\n",
    "![With and without buffering](./tmp/timelines.svg)\n",
    "![With and without buffering](../../../timelines.svg) -->\n",
    "\n",
    "* The buffer size depends on the user's preferences (the larger the buffer, the lower the number of (too much delayed) lost chunks)."
   ]
  },
  {
   "cell_type": "markdown",
   "metadata": {},
   "source": [
    "### Measuring the jitter in my host"
   ]
  },
  {
   "cell_type": "code",
   "execution_count": null,
   "metadata": {},
   "outputs": [],
   "source": [
    "!ping -c 3 localhost"
   ]
  },
  {
   "cell_type": "markdown",
   "metadata": {},
   "source": [
    "![RTT and ping](https://tecnologias-multimedia.github.io/study_guide/latency/graphics/ping_timeline.svg)\n",
    "<center>$t_t =$ Transmission Time, $t_p =$ Propagation Time</center>\n",
    "\n",
    "* The `min/avg/max/mdev` represents the minimum [RTT](https://en.wikipedia.org/wiki/Round-trip_delay) / average RTT / maximum RTT / standard deviation of the RTT.\n",
    "* Latency is the RTT divided by 2.\n",
    "* Usually, the jitter that we want to hide is the `mdev`/2.\n",
    "* Unfortunately, `localhost` is too good to simulate typical transmissions scenarios :-/"
   ]
  },
  {
   "cell_type": "markdown",
   "metadata": {},
   "source": [
    "### How is the jitter in the Internet?"
   ]
  },
  {
   "cell_type": "code",
   "execution_count": null,
   "metadata": {},
   "outputs": [],
   "source": [
    "!ping -c 3 8.8.8.8 # Google DNS"
   ]
  },
  {
   "cell_type": "markdown",
   "metadata": {},
   "source": [
    "* OK, it's clear that if we want to simulate a real scenario using `localhost` then we need to add some random latency."
   ]
  },
  {
   "cell_type": "markdown",
   "metadata": {},
   "source": [
    "### Increase latency and jitter for the `localhost` link\n",
    "* Using [`tc`](https://man7.org/linux/man-pages/man8/tc.8.html) (Traffic Control).\n",
    "* Example with:\n",
    "    * Average latency = 20 ms (average RTT = 40 ms).\n",
    "    * Average `mdev` = 5 ms.\n",
    "    * [Perarson correlation coefficient](https://en.wikipedia.org/wiki/Pearson_correlation_coefficient) between delays = 0.25 (1.0 means total [correlation](https://en.wikipedia.org/wiki/Correlation) between consecutive transmissions, 0.0 implies no correlation).\n",
    "    * Statistical distribution of the RTTs = [normal](https://en.wikipedia.org/wiki/Normal_distribution)."
   ]
  },
  {
   "cell_type": "markdown",
   "metadata": {},
   "source": [
    "<p style=\"padding: 10px; border: 2px solid blue;\"><font color='red'>Please, before running the next cell, be sure that sudo does NOT request a password (open a terminal and run, for example, `sudo ls`). If a password is required, add the line `your_username ALL=(ALL) NOPASSWD: ALL` at the end of the `/etc/sudoers` file.</font><p>"
   ]
  },
  {
   "cell_type": "markdown",
   "metadata": {},
   "source": [
    "<p style=\"padding: 10px; border: 2px solid blue;\"><font color='red'>You must be aware that the modification of the latency/throughput of the `localhost` adapter affect also to the refresing time of this notebook! Please, be patient.</font><p>"
   ]
  },
  {
   "cell_type": "code",
   "execution_count": null,
   "metadata": {},
   "outputs": [],
   "source": [
    "avg_latency = 300\n",
    "mean_deviation = 50\n",
    "correlation = 25\n",
    "distribution = \"normal\"\n",
    "\n",
    "# Activate tc rules\n",
    "!tc qdisc show dev lo\n",
    "!sudo tc qdisc add dev lo root handle 1: netem delay {avg_latency}ms {mean_deviation}ms {correlation}% distribution {distribution}\n",
    "\n",
    "# Show rules    \n",
    "!tc qdisc show dev lo\n",
    "\n",
    "# See the effect\n",
    "!ping -c 3 localhost\n",
    "\n",
    "# Remove rules\n",
    "!sudo tc qdisc del dev lo root\n",
    "!tc qdisc show dev lo\n",
    "\n",
    "# See the effect\n",
    "!ping -c 3 localhost"
   ]
  },
  {
   "cell_type": "markdown",
   "metadata": {},
   "source": [
    "### Let's listen again to minimal\n",
    "... using a high jitter."
   ]
  },
  {
   "cell_type": "code",
   "execution_count": null,
   "metadata": {},
   "outputs": [],
   "source": [
    "# Real machine\n",
    "\n",
    "avg_latency = 300\n",
    "mean_deviation = 50\n",
    "correlation = 25\n",
    "distribution = \"normal\"\n",
    "\n",
    "!tc qdisc show dev lo\n",
    "!sudo tc qdisc add dev lo root handle 1: netem delay {avg_latency}ms {mean_deviation}ms {correlation}% distribution {distribution}\n",
    "!tc qdisc show dev lo\n",
    "\n",
    "#!python ~/InterCom/src/minimal.py --show_stats -t 5\n",
    "!python ~/InterCom/src/minimal.py --show_stats -t 5 -f ~/InterCom/data/AviadorDro_LaZonaFantasma.oga\n",
    "\n",
    "!sudo tc qdisc del dev lo root\n",
    "!tc qdisc show dev lo"
   ]
  },
  {
   "cell_type": "code",
   "execution_count": null,
   "metadata": {},
   "outputs": [],
   "source": [
    "# Virtual machine\n",
    "\n",
    "avg_latency = 300\n",
    "mean_deviation = 50\n",
    "correlation = 25\n",
    "distribution = \"normal\"\n",
    "\n",
    "!tc qdisc show dev lo\n",
    "!sudo tc qdisc add dev lo root handle 1: netem delay {avg_latency}ms {mean_deviation}ms {correlation}% distribution {distribution}\n",
    "!tc qdisc show dev lo\n",
    "\n",
    "#!python ~/InterCom/src/minimal.py --show_stats -t 5\n",
    "#!python ~/InterCom/src/minimal.py --show_stats -t 5 --frames_per_second 8000 #--frames_per_chunk 256\n",
    "#!python ~/InterCom/src/minimal.py --show_stats -t 5 -f ~/InterCom/data/AviadorDro_LaZonaFantasma.oga #--frames_per_second 8000\n",
    "!python ~/InterCom/src/minimal.py --show_stats -t 5 -s 8000 -f ~/InterCom/data/AviadorDro_LaZonaFantasma_8000Hz.oga --frames_per_chunk 256\n",
    "\n",
    "!sudo tc qdisc del dev lo root\n",
    "!tc qdisc show dev lo"
   ]
  },
  {
   "cell_type": "markdown",
   "metadata": {},
   "source": [
    "### Quite bad :-/ The chunks are not arriving with a constant cadence to the receiver"
   ]
  },
  {
   "cell_type": "markdown",
   "metadata": {},
   "source": [
    "### Let's hidden the jitter\n",
    "* The default buffering time in InterCom is 150 ms (see `buffer.py -h`)."
   ]
  },
  {
   "cell_type": "code",
   "execution_count": null,
   "metadata": {},
   "outputs": [],
   "source": [
    "# Real machine\n",
    "\n",
    "avg_latency = 300\n",
    "mean_deviation = 50\n",
    "correlation = 25\n",
    "distribution = \"normal\"\n",
    "\n",
    "!tc qdisc show dev lo\n",
    "!sudo tc qdisc add dev lo root handle 1: netem delay {avg_latency}ms {mean_deviation}ms {correlation}% distribution {distribution}\n",
    "!tc qdisc show dev lo\n",
    "\n",
    "!ping -c 3 localhost\n",
    "\n",
    "#!python ~/InterCom/src/buffer.py --show_stats -t 5\n",
    "!python ~/InterCom/src/buffer.py --show_stats -B 300 -t 5 -f ~/InterCom/data/AviadorDro_LaZonaFantasma.oga\n",
    "\n",
    "# Remove rules\n",
    "!sudo tc qdisc del dev lo root\n",
    "!tc qdisc show dev lo"
   ]
  },
  {
   "cell_type": "code",
   "execution_count": null,
   "metadata": {
    "scrolled": true
   },
   "outputs": [],
   "source": [
    "# Virtual machine\n",
    "\n",
    "avg_latency = 300\n",
    "mean_deviation = 50\n",
    "correlation = 25\n",
    "distribution = \"normal\"\n",
    "\n",
    "!tc qdisc show dev lo\n",
    "!sudo tc qdisc add dev lo root handle 1: netem delay {avg_latency}ms {mean_deviation}ms {correlation}% distribution {distribution}\n",
    "!tc qdisc show dev lo\n",
    "\n",
    "!ping -c 3 localhost\n",
    "\n",
    "!python ~/InterCom/src/buffer.py --show_stats -b 300 -t 5 -s 8000 -f ~/InterCom/data/AviadorDro_LaZonaFantasma_8000Hz.oga --frames_per_chunk 256\n",
    "\n",
    "!sudo tc qdisc del dev lo root\n",
    "!tc qdisc show dev lo"
   ]
  },
  {
   "cell_type": "markdown",
   "metadata": {},
   "source": [
    "### Much better!"
   ]
  },
  {
   "cell_type": "markdown",
   "metadata": {},
   "source": [
    "## 3. [Compression with DEFLATE](https://tecnologias-multimedia.github.io/study_guide/BR_control/#x1-40001.2)"
   ]
  },
  {
   "cell_type": "markdown",
   "metadata": {},
   "source": [
    "### Estimation of the [throughput](https://en.wikipedia.org/wiki/Throughput) of the `localhost` link\n",
    "\n",
    "* Notice that the following technique depends heavily on the packet size, that using ping is limited to 64 KB (including the IP header). For this reason, our results will be only approximated :-/"
   ]
  },
  {
   "cell_type": "code",
   "execution_count": null,
   "metadata": {},
   "outputs": [],
   "source": [
    "!ping -c 1 -s 65507 localhost > /tmp/1\n",
    "!cat /tmp/1\n",
    "!grep rtt /tmp/1 | cut -f 5 -d \"/\" > /tmp/2\n",
    "f = open(\"/tmp/2\")\n",
    "time = f.read()\n",
    "print(\"transmission time =\", time)\n",
    "print(\"GBPS =\", 65507*8/float(time)/2/1000/1000)"
   ]
  },
  {
   "cell_type": "markdown",
   "metadata": {},
   "source": [
    "* Too high! We need harder conditions for testing InterCom, which without compression requires:\n",
    "\n",
    "\\begin{equation}\n",
    "\\frac{44100\\frac{\\text{frames}}{\\text{second}}\\times 2\\frac{\\text{samples}}{\\text{frame}}\\times 2\\frac{\\text{bytes}}{\\text{sample}}\\times 8\\frac{\\text{bits}}{\\text{byte}}}{1000} = 1411.2 ~\\text{kbps} \\approx 1.4~\\text{Mbps}\n",
    "\\end{equation}"
   ]
  },
  {
   "cell_type": "markdown",
   "metadata": {},
   "source": [
    "### The effect of limiting the throughput"
   ]
  },
  {
   "cell_type": "code",
   "execution_count": null,
   "metadata": {},
   "outputs": [],
   "source": [
    "avg_latency = 10\n",
    "mean_deviation = 10\n",
    "correlation = 50\n",
    "distribution = \"normal\"\n",
    "throughput = 300 # KBPS\n",
    "\n",
    "# Modify the latency and the throughput\n",
    "!sudo tc qdisc add dev lo root handle 1: netem delay {avg_latency}ms {mean_deviation}ms {correlation}% distribution {distribution}\n",
    "!sudo tc qdisc add dev lo parent 1:1 handle 10: tbf rate {throughput}kbit burst 1024kbit limit 1024kbit\n",
    "\n",
    "# Measure throughput\n",
    "!ping -c 1 -s 65507 localhost > /tmp/1\n",
    "!cat /tmp/1\n",
    "!grep rtt /tmp/1 | cut -f 5 -d \"/\" > /tmp/2\n",
    "f = open(\"/tmp/2\")\n",
    "time = f.read()\n",
    "print(time)\n",
    "\n",
    "# Delete the rules\n",
    "!sudo tc qdisc del dev lo parent 1:1 handle 10:\n",
    "!sudo tc qdisc del dev lo root\n",
    "!tc qdisc show dev lo\n",
    "\n",
    "print(\"Throughput =\", 65507*8/float(time)/2, \"KBPS\")"
   ]
  },
  {
   "cell_type": "markdown",
   "metadata": {},
   "source": [
    "* Well, the limit of the throughput for a burst transmission is not effective, but for a sequence of chunks yes, it is."
   ]
  },
  {
   "cell_type": "markdown",
   "metadata": {},
   "source": [
    "###   Let's see the effect of the throughput limit"
   ]
  },
  {
   "cell_type": "code",
   "execution_count": null,
   "metadata": {},
   "outputs": [],
   "source": [
    "# Real machine\n",
    "\n",
    "avg_latency = 10\n",
    "mean_deviation = 10\n",
    "correlation = 50\n",
    "distribution = \"normal\"\n",
    "throughput = 300 # KBPS\n",
    "\n",
    "!sudo tc qdisc add dev lo root handle 1: netem delay {avg_latency}ms {mean_deviation}ms {correlation}% distribution {distribution}\n",
    "!sudo tc qdisc add dev lo parent 1:1 handle 10: tbf rate {throughput}kbit burst 64kbit limit 64kbit\n",
    "\n",
    "!python ~/InterCom/src/buffer.py --show_stats -t 5 -f ~/InterCom/data/AviadorDro_LaZonaFantasma.oga\n",
    "\n",
    "!sudo tc qdisc del dev lo parent 1:1 handle 10:\n",
    "!sudo tc qdisc del dev lo root\n",
    "!tc qdisc show dev lo"
   ]
  },
  {
   "cell_type": "code",
   "execution_count": null,
   "metadata": {},
   "outputs": [],
   "source": [
    "# Virtual machine\n",
    "\n",
    "avg_latency = 10\n",
    "mean_deviation = 10\n",
    "correlation = 50\n",
    "distribution = \"normal\"\n",
    "throughput = 300 # KBPS\n",
    "\n",
    "!sudo tc qdisc add dev lo root handle 1: netem delay {avg_latency}ms {mean_deviation}ms {correlation}% distribution {distribution}\n",
    "!sudo tc qdisc add dev lo parent 1:1 handle 10: tbf rate {throughput}kbit burst 64kbit limit 64kbit\n",
    "\n",
    "!python ~/InterCom/src/buffer.py --show_stats -t 5 -s 8000 -f ~/InterCom/data/AviadorDro_LaZonaFantasma_8000Hz.oga --frames_per_chunk 256\n",
    "\n",
    "!sudo tc qdisc del dev lo parent 1:1 handle 10:\n",
    "!sudo tc qdisc del dev lo root\n",
    "!tc qdisc show dev lo"
   ]
  },
  {
   "cell_type": "markdown",
   "metadata": {},
   "source": [
    "### So, depending on the link's thoughput and the bit-rate of the audio ...\n",
    "... a part of the chunk are not transmitted, because the link is congested :-/"
   ]
  },
  {
   "cell_type": "markdown",
   "metadata": {},
   "source": [
    "### [DEFLATE](https://en.wikipedia.org/wiki/DEFLATE) can mitigate the problem\n",
    "\n",
    "* The chunks can be compressed with [LZSS](https://en.wikipedia.org/wiki/Lempel-Ziv-Storer-Szymanski), that is based on [LZ77](https://github.com/vicente-gonzalez-ruiz/LZ77) and [Huffman Coding](https://vicente-gonzalez-ruiz.github.io/Huffman_coding/).\n",
    "\n",
    "* We have choosen this text compressor codec because:\n",
    "    1. It's fast.\n",
    "    2. Works well when repeated \"strings\" are found at the input.\n",
    "    3. Available in [The Standard Python Library](https://docs.python.org/3/library/) ([zlib](https://docs.python.org/3/library/zlib.html)).\n",
    "    4. Generic (eats anything), almost never, expands."
   ]
  },
  {
   "cell_type": "code",
   "execution_count": null,
   "metadata": {},
   "outputs": [],
   "source": [
    "# Real machine\n",
    "\n",
    "avg_latency = 10\n",
    "mean_deviation = 10\n",
    "correlation = 50\n",
    "distribution = \"normal\"\n",
    "throughput = 300 # KBPS\n",
    "\n",
    "!sudo tc qdisc add dev lo root handle 1: netem delay {avg_latency}ms {mean_deviation}ms {correlation}% distribution {distribution}\n",
    "!sudo tc qdisc add dev lo parent 1:1 handle 10: tbf rate {throughput}kbit burst 64kbit limit 64kbit\n",
    "\n",
    "!python ~/InterCom/src/DEFLATE_byteplanes2.py --show_stats -t 5 -f ~/InterCom/data/AviadorDro_LaZonaFantasma.oga\n",
    "\n",
    "!sudo tc qdisc del dev lo parent 1:1 handle 10:\n",
    "!sudo tc qdisc del dev lo root\n",
    "!tc qdisc show dev lo"
   ]
  },
  {
   "cell_type": "code",
   "execution_count": null,
   "metadata": {
    "scrolled": false
   },
   "outputs": [],
   "source": [
    "# Virtual machine\n",
    "\n",
    "avg_latency = 10\n",
    "mean_deviation = 10\n",
    "correlation = 50\n",
    "distribution = \"normal\"\n",
    "throughput = 300 # KBPS\n",
    "\n",
    "!sudo tc qdisc add dev lo root handle 1: netem delay {avg_latency}ms {mean_deviation}ms {correlation}% distribution {distribution}\n",
    "!sudo tc qdisc add dev lo parent 1:1 handle 10: tbf rate {throughput}kbit burst 64kbit limit 64kbit\n",
    "\n",
    "!python ~/InterCom/src/DEFLATE_byteplanes2.py --show_stats -t 5 -s 8000 -f ~/InterCom/data/AviadorDro_LaZonaFantasma_8000Hz.oga --frames_per_chunk 256\n",
    "\n",
    "!sudo tc qdisc del dev lo parent 1:1 handle 10:\n",
    "!sudo tc qdisc del dev lo root\n",
    "!tc qdisc show dev lo"
   ]
  },
  {
   "cell_type": "markdown",
   "metadata": {},
   "source": [
    "* Notice that still a part of chunks are still lost.\n",
    "\n",
    "###  In general, DEFLATE is not enough :-/ We need to compress more!"
   ]
  },
  {
   "cell_type": "markdown",
   "metadata": {},
   "source": [
    "## 4. A simple [bit-rate \"control\"](https://tecnologias-multimedia.github.io/study_guide/BR_control/#x1-60001.4) through [quantization](https://tecnologias-multimedia.github.io/study_guide/BR_control/#x1-50001.3) (and DEFLATE)\n",
    "\n",
    "* Quantization removes the less relevant information (mainly [electronic noise](https://en.wikipedia.org/wiki/Noise_(electronics)) if the quantization step size is small) and helps to increase the [compression ratio](https://en.wikipedia.org/wiki/Compression_ratio).\n",
    "* In lossy signal compression, [dead-zone quantizers](https://github.com/vicente-gonzalez-ruiz/quantization/blob/master/digital_quantization.ipynb) are commonly used because they tend to generate 0's that like to entropy compressors. We use the quantizer\n",
    "\\begin{equation}\n",
    "  k = \\text{sgn}(x) \\max\\left(0, \\left\\lfloor \\frac{\\left| x \\right|}{\\Delta} + \\frac{1}{2}\\right\\rfloor\\right),\n",
    "\\end{equation}\n",
    "where $k$ is the quantization index, and $\\Delta$ is the quantization step size. The dequantizer is defined by:\n",
    "\\begin{equation}\n",
    "  y = \\Delta k.\n",
    "\\end{equation}\n",
    "* This class of quantizers can operate by bit-planes when $\\Delta$ is a power of 2."
   ]
  },
  {
   "cell_type": "code",
   "execution_count": null,
   "metadata": {},
   "outputs": [],
   "source": [
    "%matplotlib inline\n",
    "\n",
    "import matplotlib\n",
    "import matplotlib.pyplot as plt\n",
    "import matplotlib.axes as ax\n",
    "import math\n",
    "import numpy as np\n",
    "import sounddevice as sd\n",
    "from scipy import signal"
   ]
  },
  {
   "cell_type": "code",
   "execution_count": null,
   "metadata": {},
   "outputs": [],
   "source": [
    "def quantizer(x, quantization_step):\n",
    "    k = (x / quantization_step).astype(np.int16)\n",
    "    return k\n",
    "\n",
    "def dequantizer(k, quantization_step):\n",
    "    y = quantization_step * k\n",
    "    return y"
   ]
  },
  {
   "cell_type": "code",
   "execution_count": null,
   "metadata": {},
   "outputs": [],
   "source": [
    "def plot(x, y, xlabel='', ylabel='', title=''):\n",
    "    fig = plt.figure()\n",
    "    ax = fig.add_subplot(111)\n",
    "    ax.set_title(title)\n",
    "    ax.grid()\n",
    "    ax.xaxis.set_label_text(xlabel)\n",
    "    ax.yaxis.set_label_text(ylabel)\n",
    "    ax.plot(x, y)\n",
    "    plt.show(block=False)"
   ]
  },
  {
   "cell_type": "code",
   "execution_count": null,
   "metadata": {},
   "outputs": [],
   "source": [
    "x = np.linspace(-8, 8, 500) # Input samples\n",
    "k2 = quantizer(x, quantization_step = 2)\n",
    "y2 = dequantizer(k2, quantization_step = 2)\n",
    "k3 = quantizer(x, quantization_step = 3)\n",
    "y3 = dequantizer(k3, quantization_step = 3)"
   ]
  },
  {
   "cell_type": "code",
   "execution_count": null,
   "metadata": {},
   "outputs": [],
   "source": [
    "plot(x, y2, \"Input Sample\", \"Reconstructed Sample\", \"Dead-zone Quantizer ($\\Delta={}$)\".format(2))\n",
    "plot(x, y3, \"Input Sample\", \"Reconstructed Sample\", \"Dead-zone Quantizer ($\\Delta={}$)\".format(3))"
   ]
  },
  {
   "cell_type": "code",
   "execution_count": null,
   "metadata": {},
   "outputs": [],
   "source": [
    "def q_deq(x, quantization_step):\n",
    "    k = quantizer(x, quantization_step)\n",
    "    y = dequantizer(k, quantization_step)\n",
    "    return k, y"
   ]
  },
  {
   "cell_type": "code",
   "execution_count": null,
   "metadata": {},
   "outputs": [],
   "source": [
    "x = np.arange(start = -8, stop = 9, step = 1)\n",
    "k, y = q_deq(x, quantization_step = 3)\n",
    "print(\"    Original samples =\", x)\n",
    "print(\"Quantization indexes =\", k)\n",
    "print(\" Dequantized samples =\", y)"
   ]
  },
  {
   "cell_type": "markdown",
   "metadata": {},
   "source": [
    "* In InterCom, we loosely control the bit-rate because a strict bit-rate control through the variation of $\\Delta$ is computationally intensive (we must determine the [Rate/Distortion curve](https://en.wikipedia.org/wiki/Rate%E2%80%93distortion_theory) of the current chunk to find $\\Delta$ before to quantize, compress and send it) and it's hard to compute in real-time.\n",
    "* For this reason, the current implementation estimates the number of lost chunks per second (in the last second) and use this information to increase or decrease $\\Delta$ for the chunks of the next second."
   ]
  },
  {
   "cell_type": "code",
   "execution_count": null,
   "metadata": {},
   "outputs": [],
   "source": [
    "# Run this cell if you have a mic\n",
    "sampling_rate = 44100\n",
    "duration = 5.0  # seconds\n",
    "x = sd.rec(int(duration * sampling_rate), samplerate=sampling_rate, channels=1, dtype=np.int16)\n",
    "print(\"Speak!\")\n",
    "while sd.wait():\n",
    "    pass\n",
    "print(\"done\")"
   ]
  },
  {
   "cell_type": "code",
   "execution_count": null,
   "metadata": {},
   "outputs": [],
   "source": [
    "# Run this cell if you don't have a mic\n",
    "import soundfile\n",
    "x, sampling_rate = soundfile.read(\"/home/tm/InterCom/data/AviadorDro_LaZonaFantasma.oga\")\n",
    "x = x[0:65536*2] * 32768\n",
    "x = x.astype(np.int16)"
   ]
  },
  {
   "cell_type": "code",
   "execution_count": null,
   "metadata": {},
   "outputs": [],
   "source": [
    "sd.play(x)\n",
    "plot(np.linspace(0, len(x)-1, len(x)), x, \"Sample\", \"Amplitude\", \"Original Signal\")"
   ]
  },
  {
   "cell_type": "code",
   "execution_count": null,
   "metadata": {},
   "outputs": [],
   "source": [
    "quantization_step = 2048\n",
    "k, y = q_deq(x, quantization_step)\n",
    "sd.play(y)\n",
    "plot(np.linspace(0, len(y)-1, len(y)), y, \"Sample\", \"Amplitude\", \"Quantized Signal ($\\Delta={}$)\".format(quantization_step))"
   ]
  },
  {
   "cell_type": "code",
   "execution_count": null,
   "metadata": {},
   "outputs": [],
   "source": [
    "def average_energy(x):\n",
    "    return np.sum(x.astype(np.double)*x.astype(np.double))/len(x)\n",
    "\n",
    "def RMSE(x, y):\n",
    "    error_signal = x - y\n",
    "    return math.sqrt(average_energy(error_signal))\n",
    "\n",
    "def entropy_in_bits_per_symbol(sequence_of_symbols):\n",
    "    value, counts = np.unique(sequence_of_symbols, return_counts = True)\n",
    "    probs = counts / len(sequence_of_symbols)\n",
    "    n_classes = np.count_nonzero(probs)\n",
    "\n",
    "    if n_classes <= 1:\n",
    "        return 0\n",
    "\n",
    "    entropy = 0.\n",
    "    for i in probs:\n",
    "        entropy -= i * math.log(i, 2)\n",
    "\n",
    "    return entropy\n",
    "\n",
    "def RD_curve(x):\n",
    "    points = []\n",
    "    for q_step in range(128, 4096, 128):\n",
    "        k, y = q_deq(x, q_step)\n",
    "        #print(np.unique(k))\n",
    "        rate = entropy_in_bits_per_symbol(k)\n",
    "        distortion = RMSE(x, y)\n",
    "        points.append((rate, distortion))\n",
    "    return points"
   ]
  },
  {
   "cell_type": "code",
   "execution_count": null,
   "metadata": {
    "scrolled": false
   },
   "outputs": [],
   "source": [
    "RD_points = RD_curve(x)"
   ]
  },
  {
   "cell_type": "code",
   "execution_count": null,
   "metadata": {},
   "outputs": [],
   "source": [
    "plt.title(\"RD Tradeoff\")\n",
    "plt.xlabel(\"Estimated Bits per Sample\")\n",
    "plt.ylabel(\"RMSE\")\n",
    "plt.scatter(*zip(*RD_points), s=2, c='b', marker=\"o\")\n",
    "plt.show()"
   ]
  },
  {
   "cell_type": "markdown",
   "metadata": {},
   "source": [
    "### Let's listen to the effect of a bit-rate control algorithm\n",
    "\n",
    "The quantizer is controlled by the following algorithm:\n",
    "\n",
    "1. Every second (by default) run:\n",
    "  \\begin{equation}\n",
    "    \\left\\{\n",
    "    \\begin{array}{ll}\n",
    "      \\Delta = 2\\Delta & \\quad\\text{if}~L>2 \\\\\n",
    "      \\Delta = \\frac{10}{11}\\Delta & \\quad\\text{always}.\n",
    "    \\end{array}\n",
    "    \\right.\n",
    "  \\end{equation}\n",
    " where $L$ is the number of lost chunks in the previus \"bit-rate control period\" of time."
   ]
  },
  {
   "cell_type": "code",
   "execution_count": null,
   "metadata": {},
   "outputs": [],
   "source": [
    "# Real machine\n",
    "\n",
    "avg_latency = 10\n",
    "mean_deviation = 10\n",
    "correlation = 50\n",
    "distribution = \"normal\"\n",
    "throughput = 300 # KBPS\n",
    "\n",
    "!sudo tc qdisc add dev lo root handle 1: netem delay {avg_latency}ms {mean_deviation}ms {correlation}% distribution {distribution}\n",
    "!sudo tc qdisc add dev lo parent 1:1 handle 10: tbf rate {throughput}kbit burst 64kbit limit 64kbit\n",
    "\n",
    "!python ~/InterCom/src/BR_control_conservative.py --show_stats -t 20 -f ~/InterCom/data/AviadorDro_LaZonaFantasma.oga\n",
    "\n",
    "!sudo tc qdisc del dev lo parent 1:1 handle 10:\n",
    "!sudo tc qdisc del dev lo root\n",
    "!tc qdisc show dev lo"
   ]
  },
  {
   "cell_type": "code",
   "execution_count": null,
   "metadata": {
    "scrolled": false
   },
   "outputs": [],
   "source": [
    "# Virtual machine\n",
    "\n",
    "avg_latency = 10\n",
    "mean_deviation = 10\n",
    "correlation = 50\n",
    "distribution = \"normal\"\n",
    "throughput = 300 # KBPS\n",
    "\n",
    "!sudo tc qdisc add dev lo root handle 1: netem delay {avg_latency}ms {mean_deviation}ms {correlation}% distribution {distribution}\n",
    "!sudo tc qdisc add dev lo parent 1:1 handle 10: tbf rate {throughput}kbit burst 64kbit limit 64kbit\n",
    "\n",
    "!python ~/InterCom/src/BR_control_conservative.py --rate_control_period 2 --show_stats -s 8000 -t 20 -f ~/InterCom/data/AviadorDro_LaZonaFantasma_8000Hz.oga --frames_per_chunk 256\n",
    "\n",
    "!sudo tc qdisc del dev lo parent 1:1 handle 10:\n",
    "!sudo tc qdisc del dev lo root\n",
    "!tc qdisc show dev lo"
   ]
  },
  {
   "cell_type": "markdown",
   "metadata": {},
   "source": [
    "### Some conclusions\n",
    "\n",
    "1. The transmission should have a smaller number of lost chunks compared to not using BR-control.\n",
    "2. Probably some extra technique should be applied to have a larger \"useful\" range of the quantization step size."
   ]
  },
  {
   "cell_type": "markdown",
   "metadata": {},
   "source": [
    "## 5. [Removing intra-frame (inter-channel or spatial) redundancy](https://tecnologias-multimedia.github.io/study_guide/transform_coding/#x1-30001.1)\n",
    "\n",
    "* Transform Coding increases the dynamic range of the coefficients and therefore, the \"useful\" range of the quantization step size.\n",
    "\n",
    "### The MST (Mid/Side Transform)\n",
    "The samples of a (stereo) frame tend to have similar amplitudes. For this reason, we apply [Mid/Side stereo coding](https://en.wikipedia.org/wiki/Joint_encoding#M/S_stereo_coding) (before quantization).\n",
    "\n",
    "* The MST (Mid/Side Transform) analysis transform\n",
    "\\begin{equation}\n",
    "  \\mathbf{w} = \\mathbf{K}\\mathbf{x} = \\begin{bmatrix} 1 & 1 \\\\ 1 & -1 \\end{bmatrix}\\mathbf{x},\n",
    "  \\label{eq:forward_transform_matrix_form}\n",
    "\\end{equation}\n",
    "that can be also written as\n",
    "\\begin{equation}\n",
    "  \\begin{bmatrix}\n",
    "    \\mathbf{w}_0 \\\\\n",
    "    \\mathbf{w}_1\n",
    "  \\end{bmatrix}\n",
    "  = \n",
    "  \\begin{bmatrix} 1 & 1 \\\\ 1 & -1 \\end{bmatrix}\n",
    "  \\begin{bmatrix}\n",
    "    \\mathbf{x}_0 \\\\\n",
    "    \\mathbf{x}_1\n",
    "  \\end{bmatrix}, \\tag{1}\n",
    "\\end{equation}\n",
    "where $\\mathbf{x}$ is a stereo frame, $\\mathbf{K}$ is the (forward or analysis)\n",
    "transform matrix, and $\\mathbf{w}=\\begin{bmatrix} \\mathbf{w}_0 & \\mathbf{w}_1\\end{bmatrix}^{\\text\n",
    "  T}$ is the corresponding [decomposition](https://en.wikipedia.org/wiki/Discrete_wavelet_transform#Example_in_image_processing).\n",
    "  \n",
    "* The synthesis transform defined by\n",
    "\\begin{equation}\n",
    "  \\mathbf{x} = \\mathbf{K}^{-1}\\mathbf{w}\n",
    "  \\label{eq:inverse_transform}\n",
    "\\end{equation}\n",
    "can be found from Eq. (1), where we\n",
    "get that\n",
    "\\begin{equation}\n",
    "  \\begin{array}{rcl}\n",
    "  \\mathbf{w}_0 & = & \\mathbf{x}_0 + \\mathbf{x}_1\\\\\n",
    "  \\mathbf{w}_1 & = & \\mathbf{x}_0 - \\mathbf{x}_1.\n",
    "  \\end{array}\n",
    "\\end{equation}\n",
    "By solving $\\mathbf{x}_0$ (adding) and $\\mathbf{x}_1$ (substracting) in\n",
    "these equations, we obtain that\n",
    "\\begin{equation}\n",
    "  \\begin{array}{rcl}\n",
    "  \\mathbf{x}_0 & = & \\frac{1}{2}(\\mathbf{w}_0 + \\mathbf{w}_1)\\\\\n",
    "  \\mathbf{x}_1 & = & \\frac{1}{2}(\\mathbf{w}_0 - \\mathbf{w}_1),\n",
    "  \\end{array}\n",
    "\\end{equation}\n",
    "that in matrix form becomes\n",
    "\\begin{equation}\n",
    "  \\begin{bmatrix}\n",
    "    \\mathbf{x}_0 \\\\\n",
    "    \\mathbf{x}_1\n",
    "  \\end{bmatrix}\n",
    "  = \\frac{1}{2}\n",
    "  \\begin{bmatrix} 1 & 1 \\\\ 1 & -1 \\end{bmatrix}\n",
    "  \\begin{bmatrix}\n",
    "    \\mathbf{w}_0 \\\\\n",
    "    \\mathbf{w}_1\n",
    "  \\end{bmatrix}.\n",
    "\\end{equation}\n",
    "\n",
    "Therefore,\n",
    "\\begin{equation}\n",
    "  \\mathbf{x} = \\mathbf{K}^{-1}\\mathbf{w} = \\frac{1}{2}\\mathbf{K}^{\\text T}\\mathbf{w} = \\frac{1}{2}\\mathbf{K}\\mathbf{w} = \\frac{1}{2}\\begin{bmatrix} 1 & 1 \\\\ 1 & -1 \\end{bmatrix}\\mathbf{w}.\n",
    "  \\label{eq:inverse_transform_matrix_form}\n",
    "\\end{equation}"
   ]
  },
  {
   "cell_type": "code",
   "execution_count": null,
   "metadata": {},
   "outputs": [],
   "source": [
    "def plot(y, xlabel='', ylabel='', title=''):\n",
    "    fig = plt.figure()\n",
    "    ax = fig.add_subplot(111)\n",
    "    ax.set_title(title)\n",
    "    ax.grid()\n",
    "    ax.xaxis.set_label_text(xlabel)\n",
    "    ax.yaxis.set_label_text(ylabel)\n",
    "    x = np.linspace(0, len(y)-1, len(y))\n",
    "    ax.plot(x, y, '.', markersize=1)\n",
    "    plt.show(block=False)"
   ]
  },
  {
   "cell_type": "code",
   "execution_count": null,
   "metadata": {},
   "outputs": [],
   "source": [
    "# Run this cell if you have a mic\n",
    "fs = 44100      # Sampling frequency\n",
    "duration = 5.0  # seconds\n",
    "x = sd.rec(int(duration * fs), samplerate=fs, channels=2, dtype=np.int16)\n",
    "print(\"Say something!\")\n",
    "while sd.wait():\n",
    "    pass\n",
    "print(\"done\")"
   ]
  },
  {
   "cell_type": "code",
   "execution_count": null,
   "metadata": {},
   "outputs": [],
   "source": [
    "# Run this cell if you don't have a mic\n",
    "import soundfile\n",
    "x, sampling_rate = soundfile.read(\"/home/tm/InterCom/data/AviadorDro_LaZonaFantasma.oga\")\n",
    "x = x[0:65536*2] * 32768\n",
    "x = x.astype(np.int16)"
   ]
  },
  {
   "cell_type": "code",
   "execution_count": null,
   "metadata": {},
   "outputs": [],
   "source": [
    "plot(x, \"Sample\", \"Amplitude\", \"Audio Signal\")\n",
    "#x = x[65536:]\n",
    "x = x[:65536] # The Dyadic DWT works better when the number of samples is a power of 2\n",
    "plot(x, \"Sample\", \"Amplitude\", \"Audio Signal\")\n",
    "sd.play(x)"
   ]
  },
  {
   "cell_type": "code",
   "execution_count": null,
   "metadata": {},
   "outputs": [],
   "source": [
    "def MST_analyze(x):\n",
    "    w = np.empty_like(x, dtype=np.int32)\n",
    "    w[:, 0] = x[:, 0].astype(np.int32) + x[:, 1] # L(ow frequency subband)\n",
    "    w[:, 1] = x[:, 0].astype(np.int32) - x[:, 1] # H(igh frequency subband)\n",
    "    return w\n",
    "\n",
    "def MST_synthesize(w):\n",
    "    x = np.empty_like(w, dtype=np.int16)\n",
    "    x[:, 0] = (w[:, 0] + w[:, 1])/2 # L(ow frequency subband)\n",
    "    x[:, 1] = (w[:, 0] - w[:, 1])/2 # H(igh frequency subband)\n",
    "    return x"
   ]
  },
  {
   "cell_type": "code",
   "execution_count": null,
   "metadata": {},
   "outputs": [],
   "source": [
    "w = MST_analyze(x)"
   ]
  },
  {
   "cell_type": "code",
   "execution_count": null,
   "metadata": {},
   "outputs": [],
   "source": [
    "plot(w[:, 0], \"Sample\", \"Amplitude\", \"Mid Subband\")\n",
    "sd.play(w[:, 0].astype(np.int16))"
   ]
  },
  {
   "cell_type": "code",
   "execution_count": null,
   "metadata": {},
   "outputs": [],
   "source": [
    "plot(w[:, 1], \"Sample\", \"Amplitude\", \"Side Subband\")\n",
    "sd.play(w[:, 1].astype(np.int16))"
   ]
  },
  {
   "cell_type": "code",
   "execution_count": null,
   "metadata": {},
   "outputs": [],
   "source": [
    "K1 = np.array([1.0, 1.0])\n",
    "w1, h1 = signal.freqz(K1, fs=44100)\n",
    "K2 = np.array([1.0, -1.0])\n",
    "w2, h2 = signal.freqz(K2, fs=44100)"
   ]
  },
  {
   "cell_type": "code",
   "execution_count": null,
   "metadata": {},
   "outputs": [],
   "source": [
    "plt.subplot(211)\n",
    "plt.title('Mid/Side analysis filters transfer functions')\n",
    "plt.plot(w1, 20 * np.log10(abs(h1)), 'b')\n",
    "plt.ylabel('Amplitude [dB]')\n",
    "plt.subplot(212)\n",
    "plt.plot(w2, 20 * np.log10(abs(h2)), 'b')\n",
    "plt.xlabel('Frequency (Hz)')\n",
    "plt.ylabel('Amplitude [dB]')\n",
    "plt.show()"
   ]
  },
  {
   "cell_type": "markdown",
   "metadata": {},
   "source": [
    "* Notice that both filters have the same gain, although with only 2 taps, the filtering performance is not very high :-/"
   ]
  },
  {
   "cell_type": "markdown",
   "metadata": {},
   "source": [
    "### Quantization of the MST subbands"
   ]
  },
  {
   "cell_type": "code",
   "execution_count": null,
   "metadata": {},
   "outputs": [],
   "source": [
    "def quantizer(x, quantization_step):\n",
    "    '''Deadzone quantization.'''\n",
    "    k = (x / quantization_step).astype(np.int32)\n",
    "    return k\n",
    "\n",
    "def q_RD_curve(data):\n",
    "    '''RD curve in the space domain.'''\n",
    "    RD_points = []\n",
    "    for q_step in range(16, 1024, 32):\n",
    "        k, y = q_deq(data, q_step)\n",
    "        rate = entropy_in_bits_per_symbol(k[:, 0]) + entropy_in_bits_per_symbol(k[:, 1])\n",
    "        distortion = RMSE(data, y)\n",
    "        RD_points.append((rate, distortion))\n",
    "    return RD_points\n",
    "\n",
    "def MST_RD_curve(data):\n",
    "    '''RD curve in the MST domain.'''\n",
    "    RD_points = []\n",
    "    for q_step in range(16, 1024, 32):\n",
    "        analyzed_data = MST_analyze(data)\n",
    "        k, y = q_deq(analyzed_data, q_step)\n",
    "        rate = entropy_in_bits_per_symbol(k[:, 0]) + entropy_in_bits_per_symbol(k[:, 1])\n",
    "        reconstructed_data = MST_synthesize(y)\n",
    "        distortion = RMSE(data, reconstructed_data)\n",
    "        RD_points.append((rate, distortion))\n",
    "    return RD_points"
   ]
  },
  {
   "cell_type": "code",
   "execution_count": null,
   "metadata": {},
   "outputs": [],
   "source": [
    "q_RD_points = q_RD_curve(x)\n",
    "MST_RD_points = MST_RD_curve(x)"
   ]
  },
  {
   "cell_type": "code",
   "execution_count": null,
   "metadata": {},
   "outputs": [],
   "source": [
    "plt.title(\"RD Tradeoff\")\n",
    "plt.xlabel(\"Estimated Bits per Sample\")\n",
    "plt.ylabel(\"RMSE\")\n",
    "plt.plot(*zip(*MST_RD_points), c='b', marker=\".\", label='Quantizing MST subbands')\n",
    "plt.plot(*zip(*q_RD_points), c='r', marker=\".\", label='Quantizing original audio')\n",
    "plt.legend(loc='upper right')\n",
    "plt.show()"
   ]
  },
  {
   "cell_type": "markdown",
   "metadata": {},
   "source": [
    "### Conclusions\n",
    "\n",
    "1. As it can be seen, the distortion is an exponential function (with a negative exponent). This basically implies that when the bit-rate decreases ($\\Delta$ increases), the distortion also increases exponentially. Therefore, when we have two (or more) signals that are quantized, it is more beneficial from the a RD point of view, to increase $\\Delta$ by $x/2$ in both subbands, than $x$ in only one of them.\n",
    "\n",
    "2. Notice that the quantization pattern $\\Delta_0==\\Delta_1$ is only a heuristic that works fine in most of situations, and that generates the same amount of distortion in the amplitude of the audio signal and the stereo information. To determine the optimal value of the QSSs, we should always solve for the option that is the most beneficial, based on the real RD curve.\n",
    "\n",
    "3. Since both subbands ($\\mathbf{w}_0$ and $\\mathbf{w}_1$) have the same gain, and in general, the quantization error is independent of the signal (for low enough $\\Delta$ values), in theory the quantization pattern $\\Delta_0==\\Delta_1$ should yield an acceptable RD performance, because we are generating the same amount of quantization error in both subbands, for a given bit-rate.\n",
    "\n",
    "4. You can get more insights about the optimal quantization in the MST domain in his [notebook](https://github.com/Tecnologias-multimedia/Tecnologias-multimedia.github.io/blob/master/study_guide/transform_coding/stereo_transforms_RD.ipynb)."
   ]
  },
  {
   "cell_type": "markdown",
   "metadata": {},
   "source": [
    "### Result of aplying the MST to InterCom"
   ]
  },
  {
   "cell_type": "code",
   "execution_count": null,
   "metadata": {},
   "outputs": [],
   "source": [
    "# Real machine\n",
    "!python ~/InterCom/src/stereo_MST_coding_16.py --show_stats -t 20 -f ~/InterCom/data/AviadorDro_LaZonaFantasma.oga"
   ]
  },
  {
   "cell_type": "code",
   "execution_count": null,
   "metadata": {
    "scrolled": false
   },
   "outputs": [],
   "source": [
    "# Virtual machine\n",
    "!python ~/InterCom/src/stereo_MST_coding_16.py --show_stats -s 8000 -t 20 -f ~/InterCom/data/AviadorDro_LaZonaFantasma_8000Hz.oga --frames_per_chunk 256"
   ]
  },
  {
   "cell_type": "markdown",
   "metadata": {},
   "source": [
    "## 6. [Removing intra-channel (inter-frame or temporal) redundancy](https://tecnologias-multimedia.github.io/study_guide/transform_coding/#x1-80001.2)\n",
    "\n",
    "* The samples of each channel exhibit temporal redundancy. Therefore, we use a [dyadic](https://en.wikipedia.org/wiki/Discrete_wavelet_transform) [Discrete Wavelet Transform (DWT)](https://tecnologias-multimedia.github.io/study_guide/temporal_decorrelation/) to exploit it (before quantization).\n",
    "* See [here](https://cseweb.ucsd.edu/classes/fa17/cse166-a/lec13.pdf) some Wavelet functions."
   ]
  },
  {
   "cell_type": "markdown",
   "metadata": {},
   "source": [
    "### [Implementation of the DWT with Perfect Reconstruction Filter Banks](https://tecnologias-multimedia.github.io/study_guide/transform_coding/#x1-80001.2)\n",
    "\n",
    "* The DWT can be implemented as a cascade of 2-channels PRFBs:\n",
    "$~$\n",
    "![DWT](https://tecnologias-multimedia.github.io/study_guide/transform_coding/graphics/cascade.svg)\n",
    "$$~$$\n",
    "where $\\mathbf{l}$ stands for low-frequency subband, and $\\mathbf{h}$ for high-frequency subband. $\\downarrow 2$ represents a decimation where one of each two samples is ignored, and $\\uparrow 2$ the insertion of a 0 where the decimator discarded a sample.\n",
    "\n",
    "* Depending on how\n",
    "$\\phi$ (the **analysis scaling function** (low-pass frequency analysis filter)),\n",
    "$\\psi$ (the **analysis wavelet function** (high-pass frequency analysis filter),\n",
    "$\\tilde\\phi$ (the **synthesis scaling function** (low-pass frequency synthesis filter),\n",
    "and $\\tilde\\psi$ the **synthesis wavelet function** (high-pass frequency synthesis filter))\n",
    "are defined, a different DWT is computed."
   ]
  },
  {
   "cell_type": "markdown",
   "metadata": {},
   "source": [
    "### [Implementation of the DWT with Lifting](https://tecnologias-multimedia.github.io/study_guide/transform_coding/#x1-80001.2)\n",
    "\n",
    "Allows to avoid the use of the decimators, dividing by 2 the number of operations.\n",
    "\n",
    "####  Example with linear interpolation\n",
    "\n",
    "\\begin{equation}\n",
    "  {\\mathbf h}^l_i = {\\mathbf l}^{l-1}_{2i+1} - \\frac{1}{2}({\\mathbf l}^{l-1}_{2i} + {\\mathbf l}^{l-1}_{2i+2})\n",
    "\\end{equation}\n",
    "\\begin{equation}\n",
    "  {\\mathbf l}^l_i = {\\mathbf l}^{l-1}_{2i} + \\frac{1}{4}({\\mathbf h}^l_{i-1} + {\\mathbf h}^l_i),\n",
    "\\end{equation}"
   ]
  },
  {
   "cell_type": "markdown",
   "metadata": {},
   "source": [
    "### Theoretical [spectral resolution](https://tecnologias-multimedia.github.io/study_guide/transform_coding/#x1-80001.2) provided by the dyadic DWT\n",
    "\n",
    "* The DWT generates the dyadic decomposition (for $2^l$ samples, where $l$ is the number of levels of the DWT):\n",
    " \\begin{equation*}\n",
    "    | \\mathbf{l}^s_0 | \\mathbf{h}^s_0 | \\mathbf{h}^{s-1}_0 \\mathbf{h}^{s-1}_1 | \\mathbf{h}^{s-2}_0 \\mathbf{h}^{s-2}_1 \\mathbf{h}^{s-2}_2 \\mathbf{h}^{s-2}_3 | \\cdots | \\mathbf{h}^1_0 \\mathbf{h}^1_1 \\cdots \\mathbf{h}^1_{2^{n-1}-1} |,\n",
    "  \\end{equation*}\n",
    "where $s$ represents the subband index ($s$), and each subband contains a set of\n",
    "coefficients (distinguished by subscript).\n",
    "\n",
    "* It holds that:\n",
    "\\begin{equation}\n",
    "  W({\\mathbf h}^s) = \\frac{1}{2}W({\\mathbf h}^{s-1}),\n",
    "\\end{equation}\n",
    "and that:\n",
    "\\begin{equation}\n",
    "  W({\\mathbf l}^{N_{\\text{levels}}}) = W({\\mathbf h}^{N_{\\text{levels}}}),\n",
    "\\end{equation}\n",
    "being $W(\\cdot)$ the bandwidth of the corresponding\n",
    "subband $s$."
   ]
  },
  {
   "cell_type": "markdown",
   "metadata": {},
   "source": [
    "### A real example:"
   ]
  },
  {
   "cell_type": "code",
   "execution_count": null,
   "metadata": {},
   "outputs": [],
   "source": [
    "def average_complex_energy(x):\n",
    "    return np.sum(x.real.astype(np.double)*x.real.astype(np.double) +\n",
    "                  x.imag.astype(np.double)*x.imag.astype(np.double))/len(x)"
   ]
  },
  {
   "cell_type": "code",
   "execution_count": null,
   "metadata": {},
   "outputs": [],
   "source": [
    "import pywt # pip install pywavelets\n",
    "from IPython.display import Math\n",
    "\n",
    "%matplotlib inline\n",
    "\n",
    "#filters_name = \"haar\"\n",
    "filters_name = \"db5\"\n",
    "#filters_name = \"db7\"\n",
    "#filters_name = \"db11\"\n",
    "#filters_name = \"db20\"\n",
    "filters_name = \"bior3.5\"\n",
    "\n",
    "wavelet = pywt.Wavelet(filters_name)\n",
    "\n",
    "N_levels = 3\n",
    "\n",
    "for l in range(N_levels):\n",
    "    filters = wavelet.wavefun(level = (l+1))[:-1]\n",
    "    w0, h0 = signal.freqz(filters[0], fs=44100)\n",
    "    w1, h1 = signal.freqz(filters[1], fs=44100)\n",
    "    plt.plot(w1, abs(h1), label=\"$\\\\mathbf{h}$\" + f\"$^{l+1}$\")\n",
    "    display(Math(\"\\\\text{Average energy of}~\" + \"\\mathbf{h}\" + f\"^{l+1}\" + f\" = {average_complex_energy(h1)}\"))\n",
    "plt.plot(w0, abs(h0), label=\"$\\\\mathbf{l}$\" + f\"$^{l+1}$\")\n",
    "display(Math(\"\\\\text{Average energy of}~\" + \"\\mathbf{l}\" + f\"^{l+1}\" + f\" = {average_complex_energy(h0)}\"))\n",
    "plt.legend(loc=\"best\")\n",
    "plt.show()"
   ]
  },
  {
   "cell_type": "markdown",
   "metadata": {},
   "source": [
    "### Quantization in the (Dyadic) DWT domain\n",
    "\n",
    "* As it can be seen, if the DWT is orthogonal, then\n",
    "\\begin{equation}\n",
    "  |(\\mathbf{h}^s)|^² = \\frac{1}{2}|\\mathbf{h}^{s-1}|^2,\n",
    "\\end{equation}\n",
    "and\n",
    "\\begin{equation}\n",
    "  |\\mathbf{l}^s|^2 = |\\mathbf{h}^s|^2,\n",
    "\\end{equation}\n",
    "where $|\\cdot|^2$ is the L$^2$ energy of the corresponding subband. Therefore\n",
    "(considering also the bandwidth of each subband), it holds that all the subbands\n",
    "have the same gain.\n",
    "\n",
    "* This is the same situation as in the MST (but with more subbands). For this reason,\n",
    "all the DWT coefficients are quantized using the same $\\Delta$. You can get extra\n",
    "information in this [notebook](https://github.com/Tecnologias-multimedia/Tecnologias-multimedia.github.io/blob/master/study_guide/transform_coding/DWT_RD.ipynb)."
   ]
  },
  {
   "cell_type": "markdown",
   "metadata": {},
   "source": [
    "### (Dyadic) DWT in action\n",
    "Go to the shell and run:\n",
    "```\n",
    "python ~/InterCom/test/sounddevice/plot_input_stereo.py &\n",
    "python ~/InterCom/test/transforms/rfft_hamming.py &\n",
    "python ~/InterCom/test/transforms/dwt5.py &\n",
    "python ~/InterCom/test/sounddevice/play_sine.py 440\n",
    "```"
   ]
  },
  {
   "cell_type": "markdown",
   "metadata": {},
   "source": [
    "### DWT RD performance"
   ]
  },
  {
   "cell_type": "code",
   "execution_count": null,
   "metadata": {},
   "outputs": [],
   "source": [
    "def quantizer(x, quantization_step):\n",
    "    k = (x / quantization_step).astype(np.int32)\n",
    "    return k\n",
    "\n",
    "def dequantizer(k, quantization_step):\n",
    "    y = quantization_step * k\n",
    "    return y\n",
    "\n",
    "def DWT_analyze(x, levels):\n",
    "    coefs = np.empty(x.shape, dtype=np.int32)\n",
    "    decomposition_0 = pywt.wavedec(x[:, 0], wavelet=wavelet, level=levels, mode=\"per\")\n",
    "    decomposition_1 = pywt.wavedec(x[:, 1], wavelet=wavelet, level=levels, mode=\"per\")\n",
    "    coefs_0, slices = pywt.coeffs_to_array(decomposition_0)\n",
    "    coefs_1, slices = pywt.coeffs_to_array(decomposition_1)\n",
    "    coefs[:, 0] = np.rint(coefs_0).astype(np.int32)\n",
    "    coefs[:, 1] = np.rint(coefs_1).astype(np.int32)\n",
    "    return coefs, slices\n",
    "\n",
    "def DWT_synthesize(coefs, slices):\n",
    "    samples = np.empty(coefs.shape, dtype=np.int32)\n",
    "    decomposition_0 = pywt.array_to_coeffs(coefs[:, 0], slices, output_format=\"wavedec\")\n",
    "    decomposition_1 = pywt.array_to_coeffs(coefs[:, 1], slices, output_format=\"wavedec\")\n",
    "    samples[:, 0] = np.rint(pywt.waverec(decomposition_0, wavelet=wavelet, mode=\"per\")).astype(np.int32)\n",
    "    samples[:, 1] = np.rint(pywt.waverec(decomposition_1, wavelet=wavelet, mode=\"per\")).astype(np.int32)\n",
    "    return samples\n",
    "\n",
    "def DWT_RD_curve(data, levels):\n",
    "    RD_points = []\n",
    "    for q_step in range(16, 1024, 32):\n",
    "        MST_coefs = MST_analyze(data)\n",
    "        DWT_coefs, slices = DWT_analyze(MST_coefs, levels)\n",
    "        k, y = q_deq(DWT_coefs, q_step)\n",
    "        rate = entropy_in_bits_per_symbol(k[:, 0]) + entropy_in_bits_per_symbol(k[:, 1])\n",
    "        MST_coefs = DWT_synthesize(y, slices)\n",
    "        reconstructed_data = MST_synthesize(MST_coefs)\n",
    "        distortion = RMSE(data, reconstructed_data)\n",
    "        RD_points.append((rate, distortion))\n",
    "    return RD_points"
   ]
  },
  {
   "cell_type": "code",
   "execution_count": null,
   "metadata": {},
   "outputs": [],
   "source": [
    "x = x[:65536]\n",
    "plot(x, \"Sample\", \"Amplitude\", \"\")\n",
    "sd.play(x.astype(np.int16))"
   ]
  },
  {
   "cell_type": "code",
   "execution_count": null,
   "metadata": {
    "scrolled": true
   },
   "outputs": [],
   "source": [
    "q_RD_points = q_RD_curve(x)\n",
    "MST_RD_points = MST_RD_curve(x)\n",
    "DWT_RD_points = DWT_RD_curve(x, levels = N_levels)"
   ]
  },
  {
   "cell_type": "code",
   "execution_count": null,
   "metadata": {},
   "outputs": [],
   "source": [
    "plt.title(\"RD Tradeoff\")\n",
    "plt.xlabel(\"Estimated Bits per Sample\")\n",
    "plt.ylabel(\"RMSE\")\n",
    "plt.plot(*zip(*q_RD_points), c='r', marker=\".\", label='Quantization')\n",
    "plt.plot(*zip(*MST_RD_points), c='b', marker=\".\", label='Quantization after MST')\n",
    "plt.plot(*zip(*DWT_RD_points), c='g', marker=\".\", label=f'Quantization after MST+DWT(levels={N_levels})')\n",
    "plt.legend(loc='upper right')\n",
    "plt.show()"
   ]
  },
  {
   "cell_type": "markdown",
   "metadata": {},
   "source": [
    "### [Overlapped processing]()\n",
    "\n",
    "#### The problem\n",
    "![3 chunks](https://tecnologias-multimedia.github.io/study_guide/transform_coding/3_chunks.svg)\n",
    "![original reconstruction](https://tecnologias-multimedia.github.io/study_guide/transform_coding/without.svg)\n",
    "![extended](https://tecnologias-multimedia.github.io/study_guide/transform_coding/extended.svg)\n",
    "![improved reconstruction](https://tecnologias-multimedia.github.io/study_guide/transform_coding/reconstructed.svg)\n",
    "\n",
    "#### A solution\n",
    "![Overlapping betweem chunks](https://tecnologias-multimedia.github.io/study_guide/transform_coding/graphics/overlapping.svg)"
   ]
  },
  {
   "cell_type": "markdown",
   "metadata": {},
   "source": [
    "### Result of applying the DWT to InterCom"
   ]
  },
  {
   "cell_type": "code",
   "execution_count": null,
   "metadata": {},
   "outputs": [],
   "source": [
    "# Real machine\n",
    "!python ~/InterCom/src/temporal_overlapped_DWT_coding.py --show_stats -t 20 -f ~/InterCom/data/AviadorDro_LaZonaFantasma.oga"
   ]
  },
  {
   "cell_type": "code",
   "execution_count": null,
   "metadata": {
    "scrolled": true
   },
   "outputs": [],
   "source": [
    "# Virtual machine\n",
    "!python ~/InterCom/src/temporal_overlapped_DWT_coding.py --show_stats -s 8000 -t 20 -f ~/InterCom/data/AviadorDro_LaZonaFantasma_8000Hz.oga --frames_per_chunk 256"
   ]
  },
  {
   "cell_type": "markdown",
   "metadata": {},
   "source": [
    "## 7. [Perceptual]((https://en.wikipedia.org/wiki/Psychoacoustics)) Coding"
   ]
  },
  {
   "cell_type": "markdown",
   "metadata": {},
   "source": [
    "### Frequency resolution provided by the (Dyadic) DWT vs the [Threshold of (Human) Hearing (ToH)](https://tecnologias-multimedia.github.io/study_guide/threshold_of_hearing/)"
   ]
  },
  {
   "cell_type": "code",
   "execution_count": null,
   "metadata": {},
   "outputs": [],
   "source": [
    "import matplotlib.pyplot as plt\n",
    "import numpy as np\n",
    "import pywt\n",
    "from scipy import signal\n",
    "\n",
    "x = np.linspace(10,22050,22050)\n",
    "y = 3.64*(x/1000)**(-0.8) - 6.5*np.exp((-0.6)*(x/1000-3.3)**2) + 1E-3*(x/1000)**4\n",
    "plt.xscale(\"log\")\n",
    "plt.yscale(\"linear\")\n",
    "plt.title(\"ToH / DWT Frequency Decomposition\")\n",
    "plt.xlabel(\"Frequency (Hertz)\")\n",
    "plt.ylabel(\"Sound Preasure Level [dB]\")\n",
    "plt.plot(x, y, c='r', label=\"ToH\")\n",
    "\n",
    "wavelet = pywt.Wavelet(\"db5\")\n",
    "\n",
    "N_levels = 6\n",
    "\n",
    "for l in range(N_levels):\n",
    "    filters = wavelet.wavefun(level = (l+1))[:-1]\n",
    "    w0, h0 = signal.freqz(filters[0], fs=44100)\n",
    "    w1, h1 = signal.freqz(filters[1], fs=44100)\n",
    "    plt.plot(w1, 100*abs(h1)/2**l, label=\"$\\\\mathbf{h}$\" + f\"$^{l+1}$\", linestyle=\"dotted\")\n",
    "plt.plot(w0, 100*abs(h0)/2**(N_levels-1), label=\"$\\\\mathbf{l}$\" + f\"$^{l+1}$\", linestyle=\"dotted\")\n",
    "\n",
    "plt.legend(loc='best')\n",
    "\n",
    "plt.show()"
   ]
  },
  {
   "cell_type": "markdown",
   "metadata": {},
   "source": [
    "* The QSSs are adapted to the ToH in each DWT subband."
   ]
  },
  {
   "cell_type": "markdown",
   "metadata": {},
   "source": [
    "### Result of applying the ToH to InterCom"
   ]
  },
  {
   "cell_type": "code",
   "execution_count": null,
   "metadata": {},
   "outputs": [],
   "source": [
    "# Real machine\n",
    "!python ~/InterCom/src/basic_ToH.py -q 512 --show_stats -t 20 -f ~/InterCom/data/AviadorDro_LaZonaFantasma.oga"
   ]
  },
  {
   "cell_type": "code",
   "execution_count": null,
   "metadata": {},
   "outputs": [],
   "source": [
    "# Virtual machine\n",
    "!python ~/InterCom/src/basic_ToH.py -q 512 --show_stats -s 8000 -t 20 -f ~/InterCom/data/AviadorDro_LaZonaFantasma_8000Hz.oga --frames_per_chunk 256"
   ]
  },
  {
   "cell_type": "markdown",
   "metadata": {},
   "source": [
    "## 8. Future work\n",
    "1. Use the [DCT (Discrete Cosine Transform)](https://en.wikipedia.org/wiki/Discrete_cosine_transform) to increase the frequency accuracy in each DWT subband.\n",
    "2. Consider the [masking effects](https://en.wikipedia.org/wiki/Auditory_masking).\n",
    "3. [Echo cancellation](https://en.wikipedia.org/wiki/Echo_suppression_and_cancellation).\n",
    "4. [Video](https://en.wikipedia.org/wiki/Video)!"
   ]
  },
  {
   "cell_type": "markdown",
   "metadata": {},
   "source": [
    "## Appendix"
   ]
  },
  {
   "cell_type": "markdown",
   "metadata": {},
   "source": [
    "### Resumen\n",
    "\n",
    "La transmisión en tiempo real de señales sobre redes de datos no dedicadas plantea problemas de latencia y de rendimiento. En este seminario se analizan las principales técnicas usadas para mitigar dichos problemas, y se evalúa su efectividad en InterCom (https://github.com/Tecnologias-multimedia/InterCom), una aplicación que permite la intercomunicación (mediante señales de audio) entre 2 usuarios conectados a Internet. Más información en https://github.com/Tecnologias-multimedia/InterCom/blob/master/docs/2-hours_seminar.ipynb.\n",
    "\n",
    "The real-time transmission of signals over non-dedicated data networks generates latency and performance issues. In this seminar, the main techniques used to mitigate these problems are analyzed, and their effectiveness is evaluated in InterCom (https://github.com/Tecnologias-multimedia/InterCom), an application that allows intercommunication (through audio signals) between 2 users connected to the Internet. More information at https://github.com/Tecnologias-multimedia/InterCom/blob/master/docs/2-hours_seminar.ipynb."
   ]
  }
 ],
 "metadata": {
  "kernelspec": {
   "display_name": "Python 3 (ipykernel)",
   "language": "python",
   "name": "python3"
  },
  "language_info": {
   "codemirror_mode": {
    "name": "ipython",
    "version": 3
   },
   "file_extension": ".py",
   "mimetype": "text/x-python",
   "name": "python",
   "nbconvert_exporter": "python",
   "pygments_lexer": "ipython3",
   "version": "3.10.6"
  }
 },
 "nbformat": 4,
 "nbformat_minor": 2
}
